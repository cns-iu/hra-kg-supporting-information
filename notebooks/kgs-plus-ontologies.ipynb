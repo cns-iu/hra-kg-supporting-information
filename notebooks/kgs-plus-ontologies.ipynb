{
 "cells": [
  {
   "cell_type": "markdown",
   "metadata": {},
   "source": [
    "## A notebook to visualize KGs and the ontologies they use using Gephi"
   ]
  },
  {
   "cell_type": "code",
   "execution_count": 95,
   "metadata": {},
   "outputs": [
    {
     "name": "stdout",
     "output_type": "stream",
     "text": [
      "Requirement already satisfied: pandas in c:\\users\\abueckle\\documents\\github\\hra-kg-supporting-information\\.venv\\lib\\site-packages (2.2.3)\n",
      "Requirement already satisfied: numpy in c:\\users\\abueckle\\documents\\github\\hra-kg-supporting-information\\.venv\\lib\\site-packages (2.1.2)\n",
      "Requirement already satisfied: python-dateutil>=2.8.2 in c:\\users\\abueckle\\documents\\github\\hra-kg-supporting-information\\.venv\\lib\\site-packages (from pandas) (2.9.0.post0)\n",
      "Requirement already satisfied: pytz>=2020.1 in c:\\users\\abueckle\\documents\\github\\hra-kg-supporting-information\\.venv\\lib\\site-packages (from pandas) (2024.2)\n",
      "Requirement already satisfied: tzdata>=2022.7 in c:\\users\\abueckle\\documents\\github\\hra-kg-supporting-information\\.venv\\lib\\site-packages (from pandas) (2024.2)\n",
      "Requirement already satisfied: six>=1.5 in c:\\users\\abueckle\\documents\\github\\hra-kg-supporting-information\\.venv\\lib\\site-packages (from python-dateutil>=2.8.2->pandas) (1.16.0)\n",
      "Note: you may need to restart the kernel to use updated packages.\n"
     ]
    },
    {
     "name": "stderr",
     "output_type": "stream",
     "text": [
      "\n",
      "[notice] A new release of pip is available: 24.3.1 -> 25.0\n",
      "[notice] To update, run: python.exe -m pip install --upgrade pip\n"
     ]
    }
   ],
   "source": [
    "# install and import libraries\n",
    "%pip install pandas numpy\n",
    "\n",
    "import pandas as pd\n",
    "import numpy as np"
   ]
  },
  {
   "cell_type": "code",
   "execution_count": 96,
   "metadata": {},
   "outputs": [
    {
     "data": {
      "text/html": [
       "<div>\n",
       "<style scoped>\n",
       "    .dataframe tbody tr th:only-of-type {\n",
       "        vertical-align: middle;\n",
       "    }\n",
       "\n",
       "    .dataframe tbody tr th {\n",
       "        vertical-align: top;\n",
       "    }\n",
       "\n",
       "    .dataframe thead th {\n",
       "        text-align: right;\n",
       "    }\n",
       "</style>\n",
       "<table border=\"1\" class=\"dataframe\">\n",
       "  <thead>\n",
       "    <tr style=\"text-align: right;\">\n",
       "      <th></th>\n",
       "      <th>Source</th>\n",
       "      <th>Target</th>\n",
       "    </tr>\n",
       "  </thead>\n",
       "  <tbody>\n",
       "    <tr>\n",
       "      <th>0</th>\n",
       "      <td>HRA KG</td>\n",
       "      <td>CCF</td>\n",
       "    </tr>\n",
       "    <tr>\n",
       "      <th>1</th>\n",
       "      <td>HRA KG</td>\n",
       "      <td>CL</td>\n",
       "    </tr>\n",
       "    <tr>\n",
       "      <th>2</th>\n",
       "      <td>HRA KG</td>\n",
       "      <td>FMA</td>\n",
       "    </tr>\n",
       "    <tr>\n",
       "      <th>3</th>\n",
       "      <td>HRA KG</td>\n",
       "      <td>HGNC</td>\n",
       "    </tr>\n",
       "    <tr>\n",
       "      <th>4</th>\n",
       "      <td>HRA KG</td>\n",
       "      <td>HRAVS</td>\n",
       "    </tr>\n",
       "    <tr>\n",
       "      <th>...</th>\n",
       "      <td>...</td>\n",
       "      <td>...</td>\n",
       "    </tr>\n",
       "    <tr>\n",
       "      <th>415</th>\n",
       "      <td>Ubergraph</td>\n",
       "      <td>Zebrafish anatomy and development ontology (ZFA)</td>\n",
       "    </tr>\n",
       "    <tr>\n",
       "      <th>416</th>\n",
       "      <td>Ubergraph</td>\n",
       "      <td>Ascomycete phenotype ontology (APO)</td>\n",
       "    </tr>\n",
       "    <tr>\n",
       "      <th>417</th>\n",
       "      <td>Ubergraph</td>\n",
       "      <td>Mouse Developmental Stages (MmusDV)</td>\n",
       "    </tr>\n",
       "    <tr>\n",
       "      <th>418</th>\n",
       "      <td>Ubergraph</td>\n",
       "      <td>Vertebrate Breed Ontology (VBO)</td>\n",
       "    </tr>\n",
       "    <tr>\n",
       "      <th>419</th>\n",
       "      <td>Ubergraph</td>\n",
       "      <td>Units of Measurement Ontology (UO)</td>\n",
       "    </tr>\n",
       "  </tbody>\n",
       "</table>\n",
       "<p>420 rows × 2 columns</p>\n",
       "</div>"
      ],
      "text/plain": [
       "        Source                                            Target\n",
       "0       HRA KG                                               CCF\n",
       "1       HRA KG                                                CL\n",
       "2       HRA KG                                               FMA\n",
       "3       HRA KG                                              HGNC\n",
       "4       HRA KG                                             HRAVS\n",
       "..         ...                                               ...\n",
       "415  Ubergraph  Zebrafish anatomy and development ontology (ZFA)\n",
       "416  Ubergraph               Ascomycete phenotype ontology (APO)\n",
       "417  Ubergraph               Mouse Developmental Stages (MmusDV)\n",
       "418  Ubergraph                   Vertebrate Breed Ontology (VBO)\n",
       "419  Ubergraph                Units of Measurement Ontology (UO)\n",
       "\n",
       "[420 rows x 2 columns]"
      ]
     },
     "execution_count": 96,
     "metadata": {},
     "output_type": "execute_result"
    }
   ],
   "source": [
    "# load data\n",
    "url = \"https://docs.google.com/spreadsheets/d/1oiiRew9waUj5ze-yDdNByUNiAzlkQ8w-5QMRdQWleDo/export?format=csv\"\n",
    "df_original = pd.read_csv(url)\n",
    "df_original.columns = ['Source', 'Target']\n",
    "df_original"
   ]
  },
  {
   "cell_type": "markdown",
   "metadata": {},
   "source": [
    "## Create node list"
   ]
  },
  {
   "cell_type": "code",
   "execution_count": 97,
   "metadata": {},
   "outputs": [
    {
     "data": {
      "text/html": [
       "<div>\n",
       "<style scoped>\n",
       "    .dataframe tbody tr th:only-of-type {\n",
       "        vertical-align: middle;\n",
       "    }\n",
       "\n",
       "    .dataframe tbody tr th {\n",
       "        vertical-align: top;\n",
       "    }\n",
       "\n",
       "    .dataframe thead th {\n",
       "        text-align: right;\n",
       "    }\n",
       "</style>\n",
       "<table border=\"1\" class=\"dataframe\">\n",
       "  <thead>\n",
       "    <tr style=\"text-align: right;\">\n",
       "      <th></th>\n",
       "      <th>Label</th>\n",
       "      <th>Type</th>\n",
       "      <th>ID</th>\n",
       "    </tr>\n",
       "  </thead>\n",
       "  <tbody>\n",
       "    <tr>\n",
       "      <th>0</th>\n",
       "      <td>GLYCORDF</td>\n",
       "      <td>Ontology</td>\n",
       "      <td>GLYCORDF</td>\n",
       "    </tr>\n",
       "    <tr>\n",
       "      <th>1</th>\n",
       "      <td>PREDICT</td>\n",
       "      <td>Ontology</td>\n",
       "      <td>PREDICT</td>\n",
       "    </tr>\n",
       "    <tr>\n",
       "      <th>2</th>\n",
       "      <td>CDCREC</td>\n",
       "      <td>Ontology</td>\n",
       "      <td>CDCREC</td>\n",
       "    </tr>\n",
       "    <tr>\n",
       "      <th>3</th>\n",
       "      <td>TISSUES</td>\n",
       "      <td>Ontology</td>\n",
       "      <td>TISSUES</td>\n",
       "    </tr>\n",
       "    <tr>\n",
       "      <th>4</th>\n",
       "      <td>LabeledIn</td>\n",
       "      <td>Ontology</td>\n",
       "      <td>LabeledIn</td>\n",
       "    </tr>\n",
       "    <tr>\n",
       "      <th>...</th>\n",
       "      <td>...</td>\n",
       "      <td>...</td>\n",
       "      <td>...</td>\n",
       "    </tr>\n",
       "    <tr>\n",
       "      <th>256</th>\n",
       "      <td>ALT</td>\n",
       "      <td>Ontology</td>\n",
       "      <td>ALT</td>\n",
       "    </tr>\n",
       "    <tr>\n",
       "      <th>257</th>\n",
       "      <td>NANDA-I</td>\n",
       "      <td>Ontology</td>\n",
       "      <td>NANDA-I</td>\n",
       "    </tr>\n",
       "    <tr>\n",
       "      <th>258</th>\n",
       "      <td>MOTRPAC</td>\n",
       "      <td>Ontology</td>\n",
       "      <td>MOTRPAC</td>\n",
       "    </tr>\n",
       "    <tr>\n",
       "      <th>259</th>\n",
       "      <td>ICPC2EENG</td>\n",
       "      <td>Ontology</td>\n",
       "      <td>ICPC2EENG</td>\n",
       "    </tr>\n",
       "    <tr>\n",
       "      <th>260</th>\n",
       "      <td>RCD</td>\n",
       "      <td>Ontology</td>\n",
       "      <td>RCD</td>\n",
       "    </tr>\n",
       "  </tbody>\n",
       "</table>\n",
       "<p>261 rows × 3 columns</p>\n",
       "</div>"
      ],
      "text/plain": [
       "         Label      Type         ID\n",
       "0     GLYCORDF  Ontology   GLYCORDF\n",
       "1      PREDICT  Ontology    PREDICT\n",
       "2       CDCREC  Ontology     CDCREC\n",
       "3      TISSUES  Ontology    TISSUES\n",
       "4    LabeledIn  Ontology  LabeledIn\n",
       "..         ...       ...        ...\n",
       "256        ALT  Ontology        ALT\n",
       "257    NANDA-I  Ontology    NANDA-I\n",
       "258    MOTRPAC  Ontology    MOTRPAC\n",
       "259  ICPC2EENG  Ontology  ICPC2EENG\n",
       "260        RCD  Ontology        RCD\n",
       "\n",
       "[261 rows x 3 columns]"
      ]
     },
     "execution_count": 97,
     "metadata": {},
     "output_type": "execute_result"
    }
   ],
   "source": [
    "# process Google Sheet into CSVs for nodes and edges \n",
    "nodes = set()\n",
    "\n",
    "# Get unique values for each column\n",
    "unique_values = {col: df_original[col].unique() for col in df_original.columns}\n",
    "\n",
    "# Print results\n",
    "for col, values in unique_values.items():\n",
    "  for v in [v for v in values]:\n",
    "   nodes.add(v)\n",
    "\n",
    "# convert to df\n",
    "df_nodes = pd.DataFrame(list(nodes), columns=[\"Label\"])\n",
    "df_nodes['Type'] = np.where(df_nodes['Label'].isin(\n",
    "    df_original['Source']), \"KG\", \"Ontology\")\n",
    "\n",
    "# create id and label cols\n",
    "df_nodes['ID'] = df_nodes['Label'].copy()\n",
    "\n",
    "# export to CSV\n",
    "df_nodes.to_csv('output/nodes.csv', index=False)\n",
    "df_nodes"
   ]
  },
  {
   "cell_type": "markdown",
   "metadata": {},
   "source": [
    "## Create edge list"
   ]
  },
  {
   "cell_type": "code",
   "execution_count": 98,
   "metadata": {},
   "outputs": [],
   "source": [
    "df_original.to_csv('output/edges.csv', index=False)"
   ]
  },
  {
   "cell_type": "code",
   "execution_count": null,
   "metadata": {},
   "outputs": [],
   "source": []
  }
 ],
 "metadata": {
  "kernelspec": {
   "display_name": ".venv",
   "language": "python",
   "name": "python3"
  },
  "language_info": {
   "codemirror_mode": {
    "name": "ipython",
    "version": 3
   },
   "file_extension": ".py",
   "mimetype": "text/x-python",
   "name": "python",
   "nbconvert_exporter": "python",
   "pygments_lexer": "ipython3",
   "version": "3.12.4"
  }
 },
 "nbformat": 4,
 "nbformat_minor": 2
}
