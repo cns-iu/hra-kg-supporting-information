{
 "cells": [
  {
   "cell_type": "markdown",
   "metadata": {},
   "source": [
    "## A notebook to visualize KGs and the ontologies they use"
   ]
  },
  {
   "cell_type": "code",
   "execution_count": 60,
   "metadata": {},
   "outputs": [
    {
     "name": "stdout",
     "output_type": "stream",
     "text": [
      "Requirement already satisfied: networkx in c:\\users\\abueckle\\documents\\github\\hra-kg-supporting-information\\.venv\\lib\\site-packages (3.4.2)\n",
      "Requirement already satisfied: pyvis in c:\\users\\abueckle\\documents\\github\\hra-kg-supporting-information\\.venv\\lib\\site-packages (0.3.2)\n",
      "Requirement already satisfied: requests in c:\\users\\abueckle\\documents\\github\\hra-kg-supporting-information\\.venv\\lib\\site-packages (2.32.3)\n",
      "Requirement already satisfied: pandas in c:\\users\\abueckle\\documents\\github\\hra-kg-supporting-information\\.venv\\lib\\site-packages (2.2.3)\n",
      "Requirement already satisfied: gspread in c:\\users\\abueckle\\documents\\github\\hra-kg-supporting-information\\.venv\\lib\\site-packages (6.1.4)\n",
      "Requirement already satisfied: ipython>=5.3.0 in c:\\users\\abueckle\\documents\\github\\hra-kg-supporting-information\\.venv\\lib\\site-packages (from pyvis) (8.29.0)\n",
      "Requirement already satisfied: jinja2>=2.9.6 in c:\\users\\abueckle\\documents\\github\\hra-kg-supporting-information\\.venv\\lib\\site-packages (from pyvis) (3.1.5)\n",
      "Requirement already satisfied: jsonpickle>=1.4.1 in c:\\users\\abueckle\\documents\\github\\hra-kg-supporting-information\\.venv\\lib\\site-packages (from pyvis) (4.0.1)\n",
      "Requirement already satisfied: charset-normalizer<4,>=2 in c:\\users\\abueckle\\documents\\github\\hra-kg-supporting-information\\.venv\\lib\\site-packages (from requests) (3.4.0)\n",
      "Requirement already satisfied: idna<4,>=2.5 in c:\\users\\abueckle\\documents\\github\\hra-kg-supporting-information\\.venv\\lib\\site-packages (from requests) (3.10)\n",
      "Requirement already satisfied: urllib3<3,>=1.21.1 in c:\\users\\abueckle\\documents\\github\\hra-kg-supporting-information\\.venv\\lib\\site-packages (from requests) (2.0.7)\n",
      "Requirement already satisfied: certifi>=2017.4.17 in c:\\users\\abueckle\\documents\\github\\hra-kg-supporting-information\\.venv\\lib\\site-packages (from requests) (2024.8.30)\n",
      "Requirement already satisfied: numpy>=1.26.0 in c:\\users\\abueckle\\documents\\github\\hra-kg-supporting-information\\.venv\\lib\\site-packages (from pandas) (2.1.2)\n",
      "Requirement already satisfied: python-dateutil>=2.8.2 in c:\\users\\abueckle\\documents\\github\\hra-kg-supporting-information\\.venv\\lib\\site-packages (from pandas) (2.9.0.post0)\n",
      "Requirement already satisfied: pytz>=2020.1 in c:\\users\\abueckle\\documents\\github\\hra-kg-supporting-information\\.venv\\lib\\site-packages (from pandas) (2024.2)\n",
      "Requirement already satisfied: tzdata>=2022.7 in c:\\users\\abueckle\\documents\\github\\hra-kg-supporting-information\\.venv\\lib\\site-packages (from pandas) (2024.2)\n",
      "Requirement already satisfied: google-auth>=1.12.0 in c:\\users\\abueckle\\documents\\github\\hra-kg-supporting-information\\.venv\\lib\\site-packages (from gspread) (2.38.0)\n",
      "Requirement already satisfied: google-auth-oauthlib>=0.4.1 in c:\\users\\abueckle\\documents\\github\\hra-kg-supporting-information\\.venv\\lib\\site-packages (from gspread) (1.2.1)\n",
      "Requirement already satisfied: cachetools<6.0,>=2.0.0 in c:\\users\\abueckle\\documents\\github\\hra-kg-supporting-information\\.venv\\lib\\site-packages (from google-auth>=1.12.0->gspread) (5.5.1)\n",
      "Requirement already satisfied: pyasn1-modules>=0.2.1 in c:\\users\\abueckle\\documents\\github\\hra-kg-supporting-information\\.venv\\lib\\site-packages (from google-auth>=1.12.0->gspread) (0.4.1)\n",
      "Requirement already satisfied: rsa<5,>=3.1.4 in c:\\users\\abueckle\\documents\\github\\hra-kg-supporting-information\\.venv\\lib\\site-packages (from google-auth>=1.12.0->gspread) (4.9)\n",
      "Requirement already satisfied: requests-oauthlib>=0.7.0 in c:\\users\\abueckle\\documents\\github\\hra-kg-supporting-information\\.venv\\lib\\site-packages (from google-auth-oauthlib>=0.4.1->gspread) (2.0.0)\n",
      "Requirement already satisfied: decorator in c:\\users\\abueckle\\documents\\github\\hra-kg-supporting-information\\.venv\\lib\\site-packages (from ipython>=5.3.0->pyvis) (5.1.1)\n",
      "Requirement already satisfied: jedi>=0.16 in c:\\users\\abueckle\\documents\\github\\hra-kg-supporting-information\\.venv\\lib\\site-packages (from ipython>=5.3.0->pyvis) (0.19.1)\n",
      "Requirement already satisfied: matplotlib-inline in c:\\users\\abueckle\\documents\\github\\hra-kg-supporting-information\\.venv\\lib\\site-packages (from ipython>=5.3.0->pyvis) (0.1.7)\n",
      "Requirement already satisfied: prompt-toolkit<3.1.0,>=3.0.41 in c:\\users\\abueckle\\documents\\github\\hra-kg-supporting-information\\.venv\\lib\\site-packages (from ipython>=5.3.0->pyvis) (3.0.48)\n",
      "Requirement already satisfied: pygments>=2.4.0 in c:\\users\\abueckle\\documents\\github\\hra-kg-supporting-information\\.venv\\lib\\site-packages (from ipython>=5.3.0->pyvis) (2.18.0)\n",
      "Requirement already satisfied: stack-data in c:\\users\\abueckle\\documents\\github\\hra-kg-supporting-information\\.venv\\lib\\site-packages (from ipython>=5.3.0->pyvis) (0.6.3)\n",
      "Requirement already satisfied: traitlets>=5.13.0 in c:\\users\\abueckle\\documents\\github\\hra-kg-supporting-information\\.venv\\lib\\site-packages (from ipython>=5.3.0->pyvis) (5.14.3)\n",
      "Requirement already satisfied: colorama in c:\\users\\abueckle\\documents\\github\\hra-kg-supporting-information\\.venv\\lib\\site-packages (from ipython>=5.3.0->pyvis) (0.4.6)\n",
      "Requirement already satisfied: MarkupSafe>=2.0 in c:\\users\\abueckle\\documents\\github\\hra-kg-supporting-information\\.venv\\lib\\site-packages (from jinja2>=2.9.6->pyvis) (3.0.2)\n",
      "Requirement already satisfied: six>=1.5 in c:\\users\\abueckle\\documents\\github\\hra-kg-supporting-information\\.venv\\lib\\site-packages (from python-dateutil>=2.8.2->pandas) (1.16.0)\n",
      "Requirement already satisfied: parso<0.9.0,>=0.8.3 in c:\\users\\abueckle\\documents\\github\\hra-kg-supporting-information\\.venv\\lib\\site-packages (from jedi>=0.16->ipython>=5.3.0->pyvis) (0.8.4)\n",
      "Requirement already satisfied: wcwidth in c:\\users\\abueckle\\documents\\github\\hra-kg-supporting-information\\.venv\\lib\\site-packages (from prompt-toolkit<3.1.0,>=3.0.41->ipython>=5.3.0->pyvis) (0.2.13)\n",
      "Requirement already satisfied: pyasn1<0.7.0,>=0.4.6 in c:\\users\\abueckle\\documents\\github\\hra-kg-supporting-information\\.venv\\lib\\site-packages (from pyasn1-modules>=0.2.1->google-auth>=1.12.0->gspread) (0.6.1)\n",
      "Requirement already satisfied: oauthlib>=3.0.0 in c:\\users\\abueckle\\documents\\github\\hra-kg-supporting-information\\.venv\\lib\\site-packages (from requests-oauthlib>=0.7.0->google-auth-oauthlib>=0.4.1->gspread) (3.2.2)\n",
      "Requirement already satisfied: executing>=1.2.0 in c:\\users\\abueckle\\documents\\github\\hra-kg-supporting-information\\.venv\\lib\\site-packages (from stack-data->ipython>=5.3.0->pyvis) (2.1.0)\n",
      "Requirement already satisfied: asttokens>=2.1.0 in c:\\users\\abueckle\\documents\\github\\hra-kg-supporting-information\\.venv\\lib\\site-packages (from stack-data->ipython>=5.3.0->pyvis) (2.4.1)\n",
      "Requirement already satisfied: pure-eval in c:\\users\\abueckle\\documents\\github\\hra-kg-supporting-information\\.venv\\lib\\site-packages (from stack-data->ipython>=5.3.0->pyvis) (0.2.3)\n",
      "Note: you may need to restart the kernel to use updated packages.\n"
     ]
    },
    {
     "name": "stderr",
     "output_type": "stream",
     "text": [
      "\n",
      "[notice] A new release of pip is available: 24.3.1 -> 25.0\n",
      "[notice] To update, run: python.exe -m pip install --upgrade pip\n"
     ]
    }
   ],
   "source": [
    "# install and import libraries\n",
    "%pip install networkx pyvis requests pandas gspread\n",
    "\n",
    "import networkx as nx\n",
    "from pyvis.network import Network\n",
    "import random\n",
    "import requests\n",
    "import pandas as pd\n",
    "import gspread"
   ]
  },
  {
   "cell_type": "code",
   "execution_count": 61,
   "metadata": {},
   "outputs": [
    {
     "data": {
      "text/html": [
       "<div>\n",
       "<style scoped>\n",
       "    .dataframe tbody tr th:only-of-type {\n",
       "        vertical-align: middle;\n",
       "    }\n",
       "\n",
       "    .dataframe tbody tr th {\n",
       "        vertical-align: top;\n",
       "    }\n",
       "\n",
       "    .dataframe thead th {\n",
       "        text-align: right;\n",
       "    }\n",
       "</style>\n",
       "<table border=\"1\" class=\"dataframe\">\n",
       "  <thead>\n",
       "    <tr style=\"text-align: right;\">\n",
       "      <th></th>\n",
       "      <th>kg_name</th>\n",
       "      <th>ontology</th>\n",
       "    </tr>\n",
       "  </thead>\n",
       "  <tbody>\n",
       "    <tr>\n",
       "      <th>0</th>\n",
       "      <td>HRA KG</td>\n",
       "      <td>CCF</td>\n",
       "    </tr>\n",
       "    <tr>\n",
       "      <th>1</th>\n",
       "      <td>HRA KG</td>\n",
       "      <td>CL</td>\n",
       "    </tr>\n",
       "    <tr>\n",
       "      <th>2</th>\n",
       "      <td>HRA KG</td>\n",
       "      <td>FMA</td>\n",
       "    </tr>\n",
       "    <tr>\n",
       "      <th>3</th>\n",
       "      <td>HRA KG</td>\n",
       "      <td>HGNC</td>\n",
       "    </tr>\n",
       "    <tr>\n",
       "      <th>4</th>\n",
       "      <td>HRA KG</td>\n",
       "      <td>HRAVS</td>\n",
       "    </tr>\n",
       "    <tr>\n",
       "      <th>...</th>\n",
       "      <td>...</td>\n",
       "      <td>...</td>\n",
       "    </tr>\n",
       "    <tr>\n",
       "      <th>415</th>\n",
       "      <td>Ubergraph</td>\n",
       "      <td>Zebrafish anatomy and development ontology (ZFA)</td>\n",
       "    </tr>\n",
       "    <tr>\n",
       "      <th>416</th>\n",
       "      <td>Ubergraph</td>\n",
       "      <td>Ascomycete phenotype ontology (APO)</td>\n",
       "    </tr>\n",
       "    <tr>\n",
       "      <th>417</th>\n",
       "      <td>Ubergraph</td>\n",
       "      <td>Mouse Developmental Stages (MmusDV)</td>\n",
       "    </tr>\n",
       "    <tr>\n",
       "      <th>418</th>\n",
       "      <td>Ubergraph</td>\n",
       "      <td>Vertebrate Breed Ontology (VBO)</td>\n",
       "    </tr>\n",
       "    <tr>\n",
       "      <th>419</th>\n",
       "      <td>Ubergraph</td>\n",
       "      <td>Units of Measurement Ontology (UO)</td>\n",
       "    </tr>\n",
       "  </tbody>\n",
       "</table>\n",
       "<p>420 rows × 2 columns</p>\n",
       "</div>"
      ],
      "text/plain": [
       "       kg_name                                          ontology\n",
       "0       HRA KG                                               CCF\n",
       "1       HRA KG                                                CL\n",
       "2       HRA KG                                               FMA\n",
       "3       HRA KG                                              HGNC\n",
       "4       HRA KG                                             HRAVS\n",
       "..         ...                                               ...\n",
       "415  Ubergraph  Zebrafish anatomy and development ontology (ZFA)\n",
       "416  Ubergraph               Ascomycete phenotype ontology (APO)\n",
       "417  Ubergraph               Mouse Developmental Stages (MmusDV)\n",
       "418  Ubergraph                   Vertebrate Breed Ontology (VBO)\n",
       "419  Ubergraph                Units of Measurement Ontology (UO)\n",
       "\n",
       "[420 rows x 2 columns]"
      ]
     },
     "execution_count": 61,
     "metadata": {},
     "output_type": "execute_result"
    }
   ],
   "source": [
    "# load data\n",
    "url = \"https://docs.google.com/spreadsheets/d/1oiiRew9waUj5ze-yDdNByUNiAzlkQ8w-5QMRdQWleDo/export?format=csv\"\n",
    "df = pd.read_csv(url)\n",
    "df"
   ]
  },
  {
   "cell_type": "markdown",
   "metadata": {},
   "source": [
    "## Create node list"
   ]
  },
  {
   "cell_type": "code",
   "execution_count": 62,
   "metadata": {},
   "outputs": [],
   "source": [
    "# process Google Sheet into CSVs for nodes and edges \n",
    "nodes = set()\n",
    "\n",
    "# Get unique values for each column\n",
    "unique_values = {col: df[col].unique() for col in df.columns}\n",
    "\n",
    "# Print results\n",
    "for col, values in unique_values.items():\n",
    "  for v in [v for v in values]:\n",
    "   nodes.add(v)\n",
    "\n",
    "# convert to df\n",
    "df_nodes = pd.DataFrame(list(nodes), columns=[\"Label\"])\n",
    "\n",
    "# create id and label cols\n",
    "df_nodes['ID'] = df_nodes['Label'].copy()\n",
    "\n",
    "# export to CSV\n",
    "df_nodes.to_csv('output/nodes.csv', index=False)"
   ]
  },
  {
   "cell_type": "markdown",
   "metadata": {},
   "source": [
    "## Create edge list"
   ]
  },
  {
   "cell_type": "code",
   "execution_count": 63,
   "metadata": {},
   "outputs": [],
   "source": [
    "df.columns = ['Source', 'Target']\n",
    "df.to_csv('output/edges.csv', index=False)"
   ]
  },
  {
   "cell_type": "markdown",
   "metadata": {},
   "source": [
    "## Create network with `pyvis`"
   ]
  },
  {
   "cell_type": "code",
   "execution_count": 64,
   "metadata": {},
   "outputs": [
    {
     "ename": "KeyError",
     "evalue": "'kg_name'",
     "output_type": "error",
     "traceback": [
      "\u001b[1;31m---------------------------------------------------------------------------\u001b[0m",
      "\u001b[1;31mKeyError\u001b[0m                                  Traceback (most recent call last)",
      "File \u001b[1;32mc:\\Users\\abueckle\\Documents\\GitHub\\hra-kg-supporting-information\\.venv\\Lib\\site-packages\\pandas\\core\\indexes\\base.py:3805\u001b[0m, in \u001b[0;36mIndex.get_loc\u001b[1;34m(self, key)\u001b[0m\n\u001b[0;32m   3804\u001b[0m \u001b[38;5;28;01mtry\u001b[39;00m:\n\u001b[1;32m-> 3805\u001b[0m     \u001b[38;5;28;01mreturn\u001b[39;00m \u001b[38;5;28;43mself\u001b[39;49m\u001b[38;5;241;43m.\u001b[39;49m\u001b[43m_engine\u001b[49m\u001b[38;5;241;43m.\u001b[39;49m\u001b[43mget_loc\u001b[49m\u001b[43m(\u001b[49m\u001b[43mcasted_key\u001b[49m\u001b[43m)\u001b[49m\n\u001b[0;32m   3806\u001b[0m \u001b[38;5;28;01mexcept\u001b[39;00m \u001b[38;5;167;01mKeyError\u001b[39;00m \u001b[38;5;28;01mas\u001b[39;00m err:\n",
      "File \u001b[1;32mindex.pyx:167\u001b[0m, in \u001b[0;36mpandas._libs.index.IndexEngine.get_loc\u001b[1;34m()\u001b[0m\n",
      "File \u001b[1;32mindex.pyx:196\u001b[0m, in \u001b[0;36mpandas._libs.index.IndexEngine.get_loc\u001b[1;34m()\u001b[0m\n",
      "File \u001b[1;32mpandas\\\\_libs\\\\hashtable_class_helper.pxi:7081\u001b[0m, in \u001b[0;36mpandas._libs.hashtable.PyObjectHashTable.get_item\u001b[1;34m()\u001b[0m\n",
      "File \u001b[1;32mpandas\\\\_libs\\\\hashtable_class_helper.pxi:7089\u001b[0m, in \u001b[0;36mpandas._libs.hashtable.PyObjectHashTable.get_item\u001b[1;34m()\u001b[0m\n",
      "\u001b[1;31mKeyError\u001b[0m: 'kg_name'",
      "\nThe above exception was the direct cause of the following exception:\n",
      "\u001b[1;31mKeyError\u001b[0m                                  Traceback (most recent call last)",
      "Cell \u001b[1;32mIn[64], line 5\u001b[0m\n\u001b[0;32m      2\u001b[0m G \u001b[38;5;241m=\u001b[39m nx\u001b[38;5;241m.\u001b[39mGraph()\n\u001b[0;32m      4\u001b[0m \u001b[38;5;66;03m# get columns\u001b[39;00m\n\u001b[1;32m----> 5\u001b[0m entity1_nodes \u001b[38;5;241m=\u001b[39m \u001b[43mdf\u001b[49m\u001b[43m[\u001b[49m\u001b[38;5;124;43m'\u001b[39;49m\u001b[38;5;124;43mkg_name\u001b[39;49m\u001b[38;5;124;43m'\u001b[39;49m\u001b[43m]\u001b[49m\n\u001b[0;32m      6\u001b[0m entity2_nodes \u001b[38;5;241m=\u001b[39m df[\u001b[38;5;124m'\u001b[39m\u001b[38;5;124montology\u001b[39m\u001b[38;5;124m'\u001b[39m]\n\u001b[0;32m      8\u001b[0m \u001b[38;5;66;03m# add Nodes\u001b[39;00m\n",
      "File \u001b[1;32mc:\\Users\\abueckle\\Documents\\GitHub\\hra-kg-supporting-information\\.venv\\Lib\\site-packages\\pandas\\core\\frame.py:4102\u001b[0m, in \u001b[0;36mDataFrame.__getitem__\u001b[1;34m(self, key)\u001b[0m\n\u001b[0;32m   4100\u001b[0m \u001b[38;5;28;01mif\u001b[39;00m \u001b[38;5;28mself\u001b[39m\u001b[38;5;241m.\u001b[39mcolumns\u001b[38;5;241m.\u001b[39mnlevels \u001b[38;5;241m>\u001b[39m \u001b[38;5;241m1\u001b[39m:\n\u001b[0;32m   4101\u001b[0m     \u001b[38;5;28;01mreturn\u001b[39;00m \u001b[38;5;28mself\u001b[39m\u001b[38;5;241m.\u001b[39m_getitem_multilevel(key)\n\u001b[1;32m-> 4102\u001b[0m indexer \u001b[38;5;241m=\u001b[39m \u001b[38;5;28;43mself\u001b[39;49m\u001b[38;5;241;43m.\u001b[39;49m\u001b[43mcolumns\u001b[49m\u001b[38;5;241;43m.\u001b[39;49m\u001b[43mget_loc\u001b[49m\u001b[43m(\u001b[49m\u001b[43mkey\u001b[49m\u001b[43m)\u001b[49m\n\u001b[0;32m   4103\u001b[0m \u001b[38;5;28;01mif\u001b[39;00m is_integer(indexer):\n\u001b[0;32m   4104\u001b[0m     indexer \u001b[38;5;241m=\u001b[39m [indexer]\n",
      "File \u001b[1;32mc:\\Users\\abueckle\\Documents\\GitHub\\hra-kg-supporting-information\\.venv\\Lib\\site-packages\\pandas\\core\\indexes\\base.py:3812\u001b[0m, in \u001b[0;36mIndex.get_loc\u001b[1;34m(self, key)\u001b[0m\n\u001b[0;32m   3807\u001b[0m     \u001b[38;5;28;01mif\u001b[39;00m \u001b[38;5;28misinstance\u001b[39m(casted_key, \u001b[38;5;28mslice\u001b[39m) \u001b[38;5;129;01mor\u001b[39;00m (\n\u001b[0;32m   3808\u001b[0m         \u001b[38;5;28misinstance\u001b[39m(casted_key, abc\u001b[38;5;241m.\u001b[39mIterable)\n\u001b[0;32m   3809\u001b[0m         \u001b[38;5;129;01mand\u001b[39;00m \u001b[38;5;28many\u001b[39m(\u001b[38;5;28misinstance\u001b[39m(x, \u001b[38;5;28mslice\u001b[39m) \u001b[38;5;28;01mfor\u001b[39;00m x \u001b[38;5;129;01min\u001b[39;00m casted_key)\n\u001b[0;32m   3810\u001b[0m     ):\n\u001b[0;32m   3811\u001b[0m         \u001b[38;5;28;01mraise\u001b[39;00m InvalidIndexError(key)\n\u001b[1;32m-> 3812\u001b[0m     \u001b[38;5;28;01mraise\u001b[39;00m \u001b[38;5;167;01mKeyError\u001b[39;00m(key) \u001b[38;5;28;01mfrom\u001b[39;00m \u001b[38;5;21;01merr\u001b[39;00m\n\u001b[0;32m   3813\u001b[0m \u001b[38;5;28;01mexcept\u001b[39;00m \u001b[38;5;167;01mTypeError\u001b[39;00m:\n\u001b[0;32m   3814\u001b[0m     \u001b[38;5;66;03m# If we have a listlike key, _check_indexing_error will raise\u001b[39;00m\n\u001b[0;32m   3815\u001b[0m     \u001b[38;5;66;03m#  InvalidIndexError. Otherwise we fall through and re-raise\u001b[39;00m\n\u001b[0;32m   3816\u001b[0m     \u001b[38;5;66;03m#  the TypeError.\u001b[39;00m\n\u001b[0;32m   3817\u001b[0m     \u001b[38;5;28mself\u001b[39m\u001b[38;5;241m.\u001b[39m_check_indexing_error(key)\n",
      "\u001b[1;31mKeyError\u001b[0m: 'kg_name'"
     ]
    }
   ],
   "source": [
    "# create graph\n",
    "G = nx.Graph()\n",
    "\n",
    "# get columns\n",
    "entity1_nodes = df['kg_name']\n",
    "entity2_nodes = df['ontology']\n",
    "\n",
    "# add Nodes\n",
    "G.add_nodes_from(entity1_nodes, bipartite=0)  # Group 1\n",
    "G.add_nodes_from(entity2_nodes, bipartite=1)  # Group 2\n",
    "\n",
    "# add edges\n",
    "for _, row in df.iterrows():\n",
    "    G.add_edge(row['kg_name'], row['ontology'])\n",
    "\n",
    "\n",
    "\n",
    "# visualize with pyvis\n",
    "net = Network(height=\"1000px\", width=\"100%\", notebook=True)\n",
    "\n",
    "# Disable physics to keep nodes fixed\n",
    "# net.toggle_physics(False)\n",
    "\n",
    "net.from_nx(G)\n",
    "\n",
    "net.set_options(\"var options = {\\\"nodes\\\": {\\\"font\\\": {\\\"size\\\": 16}}}\"\n",
    ")\n",
    "\n",
    "# Start with physics enabled for better layout\n",
    "net.force_atlas_2based(gravity=-50, central_gravity=0.005,\n",
    "                       spring_length=200, spring_strength=0.01)\n",
    "\n",
    "# Show the initial layout to avoid overlap\n",
    "net.show(\"network_initial_layout.html\")\n",
    "\n",
    "# After initial layout, disable physics\n",
    "net.toggle_physics(False)\n",
    "\n",
    "# Save and view the final network\n",
    "net.show(\"network_final_no_physics.html\")\n",
    "\n",
    "# net.show(\"network.html\") "
   ]
  },
  {
   "cell_type": "code",
   "execution_count": null,
   "metadata": {},
   "outputs": [
    {
     "name": "stdout",
     "output_type": "stream",
     "text": [
      "Warning: When  cdn_resources is 'local' jupyter notebook has issues displaying graphics on chrome/safari. Use cdn_resources='in_line' or cdn_resources='remote' if you have issues viewing graphics in a notebook.\n",
      "network.html\n"
     ]
    },
    {
     "data": {
      "text/html": [
       "\n",
       "        <iframe\n",
       "            width=\"100%\"\n",
       "            height=\"700px\"\n",
       "            src=\"network.html\"\n",
       "            frameborder=\"0\"\n",
       "            allowfullscreen\n",
       "            \n",
       "        ></iframe>\n",
       "        "
      ],
      "text/plain": [
       "<IPython.lib.display.IFrame at 0x22e86932d20>"
      ]
     },
     "execution_count": 22,
     "metadata": {},
     "output_type": "execute_result"
    }
   ],
   "source": [
    "# Create Graph\n",
    "G = nx.Graph()\n",
    "\n",
    "# Example Data\n",
    "entity1_nodes = [\"A\", \"B\", \"C\", \"D\", \"E\", \"F\"]\n",
    "entity2_nodes = [f\"E{i}\" for i in range(1, 256)]\n",
    "\n",
    "# Add Nodes\n",
    "G.add_nodes_from(entity1_nodes, bipartite=0)  # Group 1\n",
    "G.add_nodes_from(entity2_nodes, bipartite=1)  # Group 2\n",
    "\n",
    "# Add Edges (Links)\n",
    "for _ in range(100):  # Simulated links\n",
    "    G.add_edge(random.choice(entity1_nodes), random.choice(entity2_nodes))\n",
    "\n",
    "# Visualize with Pyvis\n",
    "net = Network(height=\"700px\", width=\"100%\", notebook=True)\n",
    "net.from_nx(G)\n",
    "net.show(\"network.html\")  # Opens in browser"
   ]
  },
  {
   "cell_type": "code",
   "execution_count": null,
   "metadata": {},
   "outputs": [],
   "source": []
  }
 ],
 "metadata": {
  "kernelspec": {
   "display_name": ".venv",
   "language": "python",
   "name": "python3"
  },
  "language_info": {
   "codemirror_mode": {
    "name": "ipython",
    "version": 3
   },
   "file_extension": ".py",
   "mimetype": "text/x-python",
   "name": "python",
   "nbconvert_exporter": "python",
   "pygments_lexer": "ipython3",
   "version": "3.12.4"
  }
 },
 "nbformat": 4,
 "nbformat_minor": 2
}
