{
 "cells": [
  {
   "cell_type": "markdown",
   "metadata": {},
   "source": [
    "## A notebook to get counts for the HRA KG paper"
   ]
  },
  {
   "cell_type": "code",
   "execution_count": 22,
   "metadata": {},
   "outputs": [
    {
     "name": "stdout",
     "output_type": "stream",
     "text": [
      "Requirement already satisfied: hra-api-client in c:\\users\\abueckle\\documents\\github\\hra-kg-supporting-information\\.venv\\lib\\site-packages (0.11.0)\n",
      "Requirement already satisfied: requests in c:\\users\\abueckle\\documents\\github\\hra-kg-supporting-information\\.venv\\lib\\site-packages (2.32.3)\n",
      "Requirement already satisfied: pydantic>=2 in c:\\users\\abueckle\\documents\\github\\hra-kg-supporting-information\\.venv\\lib\\site-packages (from hra-api-client) (2.10.3)\n",
      "Requirement already satisfied: python-dateutil in c:\\users\\abueckle\\documents\\github\\hra-kg-supporting-information\\.venv\\lib\\site-packages (from hra-api-client) (2.9.0.post0)\n",
      "Requirement already satisfied: typing-extensions>=4.7.1 in c:\\users\\abueckle\\documents\\github\\hra-kg-supporting-information\\.venv\\lib\\site-packages (from hra-api-client) (4.12.2)\n",
      "Requirement already satisfied: urllib3<2.1.0,>=1.25.3 in c:\\users\\abueckle\\documents\\github\\hra-kg-supporting-information\\.venv\\lib\\site-packages (from hra-api-client) (2.0.7)\n",
      "Requirement already satisfied: charset-normalizer<4,>=2 in c:\\users\\abueckle\\documents\\github\\hra-kg-supporting-information\\.venv\\lib\\site-packages (from requests) (3.4.0)\n",
      "Requirement already satisfied: idna<4,>=2.5 in c:\\users\\abueckle\\documents\\github\\hra-kg-supporting-information\\.venv\\lib\\site-packages (from requests) (3.10)\n",
      "Requirement already satisfied: certifi>=2017.4.17 in c:\\users\\abueckle\\documents\\github\\hra-kg-supporting-information\\.venv\\lib\\site-packages (from requests) (2024.8.30)\n",
      "Requirement already satisfied: annotated-types>=0.6.0 in c:\\users\\abueckle\\documents\\github\\hra-kg-supporting-information\\.venv\\lib\\site-packages (from pydantic>=2->hra-api-client) (0.7.0)\n",
      "Requirement already satisfied: pydantic-core==2.27.1 in c:\\users\\abueckle\\documents\\github\\hra-kg-supporting-information\\.venv\\lib\\site-packages (from pydantic>=2->hra-api-client) (2.27.1)\n",
      "Requirement already satisfied: six>=1.5 in c:\\users\\abueckle\\documents\\github\\hra-kg-supporting-information\\.venv\\lib\\site-packages (from python-dateutil->hra-api-client) (1.16.0)\n",
      "Note: you may need to restart the kernel to use updated packages.\n"
     ]
    }
   ],
   "source": [
    "# import and install packages\n",
    "%pip install hra-api-client requests\n",
    "\n",
    "import hra_api_client\n",
    "from hra_api_client.api import v1_api\n",
    "import requests\n",
    "from pprint import pprint\n",
    "from pathlib import Path"
   ]
  },
  {
   "cell_type": "code",
   "execution_count": 23,
   "metadata": {},
   "outputs": [],
   "source": [
    "# Client configuration, the default API endpoint is https://apps.humanatlas.io/api\n",
    "configuration = hra_api_client.Configuration(\n",
    "    host=\"https://apps.humanatlas.io/api\"\n",
    ")\n",
    "\n",
    "# Base Client Object\n",
    "api_client = hra_api_client.ApiClient(configuration)\n",
    "\n",
    "# Instance with which to call the primary /v1 routes from our API\n",
    "api_instance = v1_api.V1Api(api_client)"
   ]
  },
  {
   "cell_type": "markdown",
   "metadata": {},
   "source": [
    "## Count and size of landmarks"
   ]
  },
  {
   "cell_type": "code",
   "execution_count": 24,
   "metadata": {},
   "outputs": [],
   "source": [
    "# download landmarks via SPARQL\n",
    "\n",
    "query = '''\n",
    "#+ summary: Landmark GLB download URLs\n",
    "#+ description: Landmark GLB download URLs\n",
    "\n",
    "PREFIX ccf: <http://purl.org/ccf/>\n",
    "PREFIX HRA: <https://purl.humanatlas.io/collection/hra>\n",
    "\n",
    "SELECT DISTINCT ?glb_url \n",
    "\n",
    "WHERE {\n",
    "#  ?refOrgan ccf:has_reference_organ ?refOrgan .\n",
    "  ?refOrgan ccf:has_object_reference [\n",
    "      ccf:file_url ?glb_url ;\n",
    "    ccf:file_subpath ?scene_node  \n",
    "  ] .\n",
    "  FILTER(strstarts(str(?refOrgan), \"https://purl.humanatlas.io/landmark\"))\n",
    "}\n",
    "ORDER BY ?ref_organ\n",
    "'''\n",
    "api_response = api_instance.sparql(query=query, format=\"application/json\")\n",
    "rows = api_response['results']['bindings']\n",
    "\n",
    "urls = [obj['glb_url']['value']  for obj in rows]\n",
    "\n",
    "# checkpprint(urls)"
   ]
  },
  {
   "cell_type": "code",
   "execution_count": 25,
   "metadata": {},
   "outputs": [
    {
     "name": "stdout",
     "output_type": "stream",
     "text": [
      "Downloaded GLB file to downloaded-organs\\3d-vh-f-uterus-landmark.glb.glb\n",
      "Downloaded GLB file to downloaded-organs\\VH_M_Urinary_Bladder_Landmarks.glb.glb\n",
      "Downloaded GLB file to downloaded-organs\\3d-vh-f-urinary-bladder-landmark.glb.glb\n",
      "Downloaded GLB file to downloaded-organs\\VH_M_Ureter_Landmarks.glb.glb\n",
      "Downloaded GLB file to downloaded-organs\\3d-vh-f-ureter-r-landmark.glb.glb\n",
      "Downloaded GLB file to downloaded-organs\\3d-vh-f-ureter-l-landmark.glb.glb\n",
      "Downloaded GLB file to downloaded-organs\\3d-vh-m-trachea-landmark.glb.glb\n",
      "Downloaded GLB file to downloaded-organs\\3d-vh-f-trachea-landmark.glb.glb\n",
      "Downloaded GLB file to downloaded-organs\\VH_M_Spleen_Landmarks.glb.glb\n",
      "Downloaded GLB file to downloaded-organs\\VH_M_Spleen_Extraction_Sites.glb.glb\n",
      "Downloaded GLB file to downloaded-organs\\3d-vh-f-spleen-landmark.glb.glb\n",
      "Downloaded GLB file to downloaded-organs\\3d-vh-f-spleen-extraction.glb.glb\n",
      "Downloaded GLB file to downloaded-organs\\VH_M_Spinal_Cord_Landmarks.glb.glb\n",
      "Downloaded GLB file to downloaded-organs\\3d-vh-f-spinal-cord-landmark.glb.glb\n",
      "Downloaded GLB file to downloaded-organs\\VH_M_Small_Intestine_Landmarks.glb.glb\n",
      "Downloaded GLB file to downloaded-organs\\VH_M_Heart_Extraction_Sites.glb.glb\n",
      "Downloaded GLB file to downloaded-organs\\3d-vh-f-heart-landmark.glb.glb\n",
      "Downloaded GLB file to downloaded-organs\\3d-vh-f-heart-extraction.glb.glb\n",
      "Downloaded GLB file to downloaded-organs\\3d-vh-f-small-intestine-landmark.glb.glb\n",
      "Downloaded GLB file to downloaded-organs\\3d-vh-f-fallopian-tube-r-landmark.glb.glb\n",
      "Downloaded GLB file to downloaded-organs\\3d-vh-f-placenta-landmark.glb.glb\n",
      "Downloaded GLB file to downloaded-organs\\VH_M_Pancreas_Landmarks.glb.glb\n",
      "Downloaded GLB file to downloaded-organs\\3d-vh-f-pancreas-landmark.glb.glb\n",
      "Downloaded GLB file to downloaded-organs\\3d-vh-m-palatine-tonsil-r-landmark.glb.glb\n",
      "Downloaded GLB file to downloaded-organs\\3d-vh-m-palatine-tonsil-l-landmark.glb.glb\n",
      "Downloaded GLB file to downloaded-organs\\3d-vh-f-palatine-tonsil-r-landmark.glb.glb\n",
      "Downloaded GLB file to downloaded-organs\\3d-vh-f-palatine-tonsil-l-landmark.glb.glb\n",
      "Downloaded GLB file to downloaded-organs\\3d-vh-f-ovary-r-landmark.glb.glb\n",
      "Downloaded GLB file to downloaded-organs\\3d-vh-f-ovary-l-landmark.glb.glb\n",
      "Downloaded GLB file to downloaded-organs\\3d-vh-f-mammary-gland-r-landmark.glb.glb\n",
      "Downloaded GLB file to downloaded-organs\\3d-vh-f-mammary-gland-l-landmark.glb.glb\n",
      "Downloaded GLB file to downloaded-organs\\3d-vh-f-fallopian-tube-l-landmark.glb.glb\n",
      "Downloaded GLB file to downloaded-organs\\3d-vh-m-eye-r-landmark.glb.glb\n",
      "Downloaded GLB file to downloaded-organs\\3d-vh-m-eye-l-landmark.glb.glb\n",
      "Downloaded GLB file to downloaded-organs\\3d-vh-f-eye-r-landmark.glb.glb\n",
      "Downloaded GLB file to downloaded-organs\\3d-vh-f-eye-l-landmark.glb.glb\n",
      "Downloaded GLB file to downloaded-organs\\3d-vh-m-main-bronchus-landmark.glb.glb\n",
      "Downloaded GLB file to downloaded-organs\\3d-vh-f-main-bronchus-landmark.glb.glb\n",
      "Downloaded GLB file to downloaded-organs\\3d-vh-m-lung-landmark.glb.glb\n",
      "Downloaded GLB file to downloaded-organs\\3d-vh-f-lung-landmark.glb.glb\n",
      "Downloaded GLB file to downloaded-organs\\VH_M_Liver_Landmarks.glb.glb\n",
      "Downloaded GLB file to downloaded-organs\\3d-vh-f-liver-landmark.glb.glb\n",
      "Downloaded GLB file to downloaded-organs\\3d-vh-m-larynx-landmark.glb.glb\n",
      "Downloaded GLB file to downloaded-organs\\3d-vh-f-larynx-landmark.glb.glb\n",
      "Downloaded GLB file to downloaded-organs\\VH_M_Large_Intestine_Landmarks.glb.glb\n",
      "Downloaded GLB file to downloaded-organs\\VH_M_Colon_Extraction_Sites.glb.glb\n",
      "Downloaded GLB file to downloaded-organs\\3d-vh-f-large-intestine-landmark.glb.glb\n",
      "Downloaded GLB file to downloaded-organs\\3d-vh-f-colon-extraction.glb.glb\n",
      "Downloaded GLB file to downloaded-organs\\VH_M_Knee_R_Landmarks.glb.glb\n",
      "Downloaded GLB file to downloaded-organs\\VH_M_Knee_L_Landmarks.glb.glb\n",
      "Downloaded GLB file to downloaded-organs\\3d-vh-f-knee-r-landmark.glb.glb\n",
      "Downloaded GLB file to downloaded-organs\\3d-vh-f-knee-l-landmark.glb.glb\n",
      "Downloaded GLB file to downloaded-organs\\VH_M_Kidney_R_Landmarks.glb.glb\n",
      "Downloaded GLB file to downloaded-organs\\VH_M_Kidney_L_Landmarks.glb.glb\n",
      "Downloaded GLB file to downloaded-organs\\VH_M_Kidney_Extraction_Sites.glb.glb\n",
      "Downloaded GLB file to downloaded-organs\\3d-vh-f-kidney-r-landmark.glb.glb\n",
      "Downloaded GLB file to downloaded-organs\\3d-vh-f-kidney-l-landmark.glb.glb\n",
      "Downloaded GLB file to downloaded-organs\\3d-vh-f-kidney-extraction.glb.glb\n",
      "Downloaded GLB file to downloaded-organs\\VH_M_Heart_Landmarks.glb.glb\n"
     ]
    }
   ],
   "source": [
    "# check if download folder exists\n",
    "folder_path = Path(\"downloaded-organs\")\n",
    "\n",
    "# Check if the folder exists and create it if not\n",
    "folder_path.mkdir(parents=True, exist_ok=True)\n",
    "\n",
    "# download GLBs\n",
    "for url in urls:\n",
    "\n",
    "  # get file name\n",
    "  name = url.split('/')[len(url.split('/'))-1]\n",
    "  \n",
    "  # Path where the file will be saved\n",
    "  file_name = folder_path / name\n",
    "\n",
    "  output_file = f\"{file_name}.glb\"\n",
    "\n",
    "  # Download the GLB file\n",
    "  try:\n",
    "      response = requests.get(url, stream=True)\n",
    "      response.raise_for_status()  # Check for HTTP request errors\n",
    "      with open(output_file, \"wb\") as file:\n",
    "          for chunk in response.iter_content(chunk_size=8192):\n",
    "              file.write(chunk)\n",
    "      print(f\"Downloaded GLB file to {output_file}\")\n",
    "  except requests.exceptions.RequestException as e:\n",
    "      print(f\"Failed to download file: {e}\")"
   ]
  }
 ],
 "metadata": {
  "kernelspec": {
   "display_name": ".venv",
   "language": "python",
   "name": "python3"
  },
  "language_info": {
   "codemirror_mode": {
    "name": "ipython",
    "version": 3
   },
   "file_extension": ".py",
   "mimetype": "text/x-python",
   "name": "python",
   "nbconvert_exporter": "python",
   "pygments_lexer": "ipython3",
   "version": "3.12.4"
  }
 },
 "nbformat": 4,
 "nbformat_minor": 2
}
