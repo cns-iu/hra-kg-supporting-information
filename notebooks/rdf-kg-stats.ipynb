{
 "cells": [
  {
   "cell_type": "markdown",
   "metadata": {},
   "source": [
    "# Get statistics for RDF-based KGs"
   ]
  },
  {
   "cell_type": "markdown",
   "metadata": {},
   "source": [
    "## Pre-requities\n",
    "\n",
    "Software installed:\n",
    "\n",
    "* blazegraph-runner\n",
    "* python\n",
    "* node\n",
    "* npm\n",
    "\n",
    "Run npm ci at the top level to get node_modules"
   ]
  },
  {
   "cell_type": "code",
   "execution_count": 1,
   "metadata": {},
   "outputs": [
    {
     "name": "stdout",
     "output_type": "stream",
     "text": [
      "\u001b[1G\u001b[0K\\\u001b[1G\u001b[0K|\u001b[1G\u001b[0K/\u001b[1G\u001b[0K-\u001b[1G\u001b[0K\\\u001b[1G\u001b[0K|\u001b[1G\u001b[0K\u001b[1mnpm\u001b[22m \u001b[96mnotice\u001b[39m Beginning October 4, 2021, all connections to the npm registry - including for package installation - must use TLS 1.2 or higher. You are currently using plaintext http to connect. Please visit the GitHub blog for more information: https://github.blog/2021-08-23-npm-registry-deprecating-tls-1-0-tls-1-1/\n",
      "\u001b[1G\u001b[0K|\u001b[1G\u001b[0K\u001b[1mnpm\u001b[22m \u001b[96mnotice\u001b[39m Beginning October 4, 2021, all connections to the npm registry - including for package installation - must use TLS 1.2 or higher. You are currently using plaintext http to connect. Please visit the GitHub blog for more information: https://github.blog/2021-08-23-npm-registry-deprecating-tls-1-0-tls-1-1/\n",
      "\u001b[1G\u001b[0K|\u001b[1G\u001b[0K/\u001b[1G\u001b[0K-\u001b[1G\u001b[0K\n",
      "added 44 packages in 2s\n",
      "\u001b[1G\u001b[0K-\u001b[1G\u001b[0K\n",
      "\u001b[1G\u001b[0K-\u001b[1G\u001b[0K7 packages are looking for funding\n",
      "\u001b[1G\u001b[0K-\u001b[1G\u001b[0K  run `npm fund` for details\n",
      "\u001b[1G\u001b[0K-\u001b[1G\u001b[0K"
     ]
    }
   ],
   "source": [
    "!mkdir -p output/rdf-kg\n",
    "!cd .. && npm ci"
   ]
  },
  {
   "cell_type": "code",
   "execution_count": 2,
   "metadata": {},
   "outputs": [],
   "source": [
    "import os.path"
   ]
  },
  {
   "cell_type": "markdown",
   "metadata": {},
   "source": [
    "# HRA KG"
   ]
  },
  {
   "cell_type": "code",
   "execution_count": 3,
   "metadata": {},
   "outputs": [
    {
     "name": "stdout",
     "output_type": "stream",
     "text": [
      "Nodes: \u001b[33m1543074\u001b[39m\n",
      "Edges: \u001b[33m101720865\u001b[39m\n",
      "Edge Types: \u001b[33m509\u001b[39m\n"
     ]
    }
   ],
   "source": [
    "if not os.path.exists('output/rdf-kg/hra-kg.nq.gz'):\n",
    "    !rm output/rdf-kg/hra-kg.*\n",
    "    !curl -L https://cdn.humanatlas.io/digital-objects/ALL-blazegraph.jnl -o output/rdf-kg/hra-kg.blazegraph.jnl\n",
    "    !blazegraph-runner --outformat=nquads --journal=output/rdf-kg/hra-kg.blazegraph.jnl dump output/rdf-kg/hra-kg.nq.gz\n",
    "    !gzip -9 output/rdf-kg/hra-kg.nq\n",
    "\n",
    "!zcat output/rdf-kg/hra-kg.nq.gz | node --max-old-space-size=64000 ../src/rdf-stats.js application/n-quads"
   ]
  },
  {
   "cell_type": "markdown",
   "metadata": {},
   "source": [
    "## SPARC"
   ]
  },
  {
   "cell_type": "code",
   "execution_count": 4,
   "metadata": {},
   "outputs": [
    {
     "name": "stdout",
     "output_type": "stream",
     "text": [
      "Nodes: \u001b[33m188146\u001b[39m\n",
      "Edges: \u001b[33m812969\u001b[39m\n",
      "Edge Types: \u001b[33m221\u001b[39m\n"
     ]
    }
   ],
   "source": [
    "if not os.path.exists('output/rdf-kg/sckan.xml.gz'):\n",
    "    !rm output/rdf-kg/sckan.*\n",
    "    !curl -L https://zenodo.org/records/14042929/files/release-2024-09-21T063147Z-sckan.zip?download=1 -o output/rdf-kg/sckan.zip\n",
    "    !unzip -j output/rdf-kg/sckan.zip \"*/blazegraph.jnl\" \n",
    "    !mv blazegraph.jnl output/rdf-kg/sckan.blazegraph.jnl\n",
    "    !blazegraph-runner --outformat=rdfxml --journal=output/rdf-kg/sckan.blazegraph.jnl dump output/rdf-kg/sckan.xml\n",
    "    !gzip -9 output/rdf-kg/sckan.xml\n",
    "\n",
    "!zcat output/rdf-kg/sckan.xml.gz | node --max-old-space-size=64000 ../src/rdf-stats.js application/rdf+xml"
   ]
  },
  {
   "cell_type": "markdown",
   "metadata": {},
   "source": [
    "## Ubergraph"
   ]
  },
  {
   "cell_type": "code",
   "execution_count": 5,
   "metadata": {},
   "outputs": [
    {
     "name": "stdout",
     "output_type": "stream",
     "text": [
      "Nodes: \u001b[33m4071817\u001b[39m\n",
      "Edges: \u001b[33m458605464\u001b[39m\n",
      "Edge Types: \u001b[33m778\u001b[39m\n"
     ]
    }
   ],
   "source": [
    "if not os.path.exists('output/rdf-kg/ubergraph.nq.gz'):\n",
    "    !rm output/rdf-kg/ubergraph.*\n",
    "    !curl -L https://ubergraph.apps.renci.org/downloads/current/ubergraph.nq.gz -o output/rdf-kg/ubergraph.nq.gz\n",
    "\n",
    "!zcat output/rdf-kg/ubergraph.nq.gz | node --max-old-space-size=64000 ../src/rdf-stats.js application/n-quads"
   ]
  },
  {
   "cell_type": "markdown",
   "metadata": {},
   "source": [
    "# ORKG"
   ]
  },
  {
   "cell_type": "code",
   "execution_count": 6,
   "metadata": {},
   "outputs": [
    {
     "name": "stdout",
     "output_type": "stream",
     "text": [
      "Nodes: \u001b[33m557821\u001b[39m\n",
      "Edges: \u001b[33m1853694\u001b[39m\n",
      "Edge Types: \u001b[33m4217\u001b[39m\n"
     ]
    }
   ],
   "source": [
    "if not os.path.exists('output/rdf-kg/orkg.nt.gz'):\n",
    "    !rm output/rdf-kg/orkg.*\n",
    "    !curl -L https://orkg.org/api/rdf/dump | gzip > output/rdf-kg/orkg.nt.gz\n",
    "\n",
    "!zcat output/rdf-kg/orkg.nt.gz | node --max-old-space-size=64000 ../src/rdf-stats.js application/n-triples"
   ]
  }
 ],
 "metadata": {
  "kernelspec": {
   "display_name": ".venv",
   "language": "python",
   "name": "python3"
  },
  "language_info": {
   "codemirror_mode": {
    "name": "ipython",
    "version": 3
   },
   "file_extension": ".py",
   "mimetype": "text/x-python",
   "name": "python",
   "nbconvert_exporter": "python",
   "pygments_lexer": "ipython3",
   "version": "3.10.12"
  }
 },
 "nbformat": 4,
 "nbformat_minor": 2
}
