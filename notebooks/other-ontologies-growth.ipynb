{
 "cells": [
  {
   "cell_type": "markdown",
   "metadata": {},
   "source": [
    "# Uberon, CL, and PCL growth over time"
   ]
  },
  {
   "cell_type": "code",
   "execution_count": 1,
   "metadata": {},
   "outputs": [
    {
     "name": "stdout",
     "output_type": "stream",
     "text": [
      "Requirement already satisfied: requests in /teradata/bherr/workspaces/hubmap/hra-kg-supporting-information/.venv/lib/python3.10/site-packages (2.32.3)\n",
      "Requirement already satisfied: charset-normalizer<4,>=2 in /teradata/bherr/workspaces/hubmap/hra-kg-supporting-information/.venv/lib/python3.10/site-packages (from requests) (3.4.1)\n",
      "Requirement already satisfied: idna<4,>=2.5 in /teradata/bherr/workspaces/hubmap/hra-kg-supporting-information/.venv/lib/python3.10/site-packages (from requests) (3.10)\n",
      "Requirement already satisfied: urllib3<3,>=1.21.1 in /teradata/bherr/workspaces/hubmap/hra-kg-supporting-information/.venv/lib/python3.10/site-packages (from requests) (2.3.0)\n",
      "Requirement already satisfied: certifi>=2017.4.17 in /teradata/bherr/workspaces/hubmap/hra-kg-supporting-information/.venv/lib/python3.10/site-packages (from requests) (2025.1.31)\n",
      "\n",
      "\u001b[1m[\u001b[0m\u001b[34;49mnotice\u001b[0m\u001b[1;39;49m]\u001b[0m\u001b[39;49m A new release of pip is available: \u001b[0m\u001b[31;49m25.0\u001b[0m\u001b[39;49m -> \u001b[0m\u001b[32;49m25.0.1\u001b[0m\n",
      "\u001b[1m[\u001b[0m\u001b[34;49mnotice\u001b[0m\u001b[1;39;49m]\u001b[0m\u001b[39;49m To update, run: \u001b[0m\u001b[32;49mpip install --upgrade pip\u001b[0m\n",
      "Note: you may need to restart the kernel to use updated packages.\n"
     ]
    }
   ],
   "source": [
    "%pip install requests"
   ]
  },
  {
   "cell_type": "code",
   "execution_count": 2,
   "metadata": {},
   "outputs": [],
   "source": [
    "ONTOLOGIES = [\n",
    "    {\"curie\": \"UBERON\", \"owner\": \"obophenotype\", \"repo\": \"uberon\", \"owl-file\": \"uberon-base.owl\" },\n",
    "    {\"curie\": \"CL\", \"owner\": \"obophenotype\", \"repo\": \"cell-ontology\", \"owl-file\": \"cl-base.owl\" },\n",
    "    {\"curie\": \"PCL\", \"owner\": \"obophenotype\", \"repo\": \"provisional_cell_ontology\", \"owl-file\": \"pcl-base.owl\" },\n",
    "]"
   ]
  },
  {
   "cell_type": "markdown",
   "metadata": {},
   "source": [
    "## Download all versions of select ontologies"
   ]
  },
  {
   "cell_type": "code",
   "execution_count": 3,
   "metadata": {},
   "outputs": [
    {
     "name": "stdout",
     "output_type": "stream",
     "text": [
      "https://github.com/obophenotype/cell-ontology/releases/download/v2025-02-13/cl-base.owl\n"
     ]
    }
   ],
   "source": [
    "import requests\n",
    "import os.path\n",
    "import os\n",
    "\n",
    "def download_file(download_url, output_file):\n",
    "    headers = {\"Accept\": \"application/octet-stream\"}\n",
    "    response = requests.get(download_url, headers=headers, stream=True, allow_redirects=True)\n",
    "    if response.status_code == 200:\n",
    "        with open(output_file, \"wb\") as file:\n",
    "            for chunk in response.iter_content(chunk_size=8192):\n",
    "                file.write(chunk)\n",
    "    else:\n",
    "        response.raise_for_status()\n",
    "\n",
    "for onto in ONTOLOGIES:\n",
    "    owner,repo,owl_file = onto[\"owner\"],onto[\"repo\"],onto[\"owl-file\"]\n",
    "    releases_url = f\"https://api.github.com/repos/{owner}/{repo}/releases\"\n",
    "    releases = requests.get(releases_url).json()\n",
    "    onto[\"releases\"] = releases\n",
    "    for release in releases:\n",
    "        tag = release[\"tag_name\"]\n",
    "        download_url = f\"https://github.com/{owner}/{repo}/releases/download/{tag}/{owl_file}\"\n",
    "        if len([ r for r in release[\"assets\"] if r[\"name\"] == owl_file ]) == 0:\n",
    "            download_url = f\"https://raw.githubusercontent.com/{owner}/{repo}/refs/tags/{tag}/{owl_file}\"\n",
    "\n",
    "        output_dir = f\"output/onto/{repo}/{tag}\"\n",
    "        output_file = f\"{output_dir}/{owl_file}\"\n",
    "        release[\"output_file\"] = output_file   \n",
    "        if not os.path.exists(output_file):\n",
    "            print(download_url)\n",
    "            os.makedirs(output_dir)\n",
    "            download_file(download_url, output_file)"
   ]
  },
  {
   "cell_type": "markdown",
   "metadata": {},
   "source": [
    "## Query all versions of select ontologies"
   ]
  },
  {
   "cell_type": "code",
   "execution_count": 4,
   "metadata": {},
   "outputs": [],
   "source": [
    "import subprocess\n",
    "import json\n",
    "\n",
    "# Run a shell command and parse the output as JSON\n",
    "def run_and_parse_json(command):\n",
    "    try:\n",
    "        # Execute the command and capture stdout\n",
    "        result = subprocess.run(command, shell=True, check=True, text=True, capture_output=True)\n",
    "        \n",
    "        # Parse the JSON output\n",
    "        parsed_data = json.loads(result.stdout)\n",
    "        \n",
    "        return parsed_data\n",
    "    except subprocess.CalledProcessError as e:\n",
    "        print(f\"Command failed with error: {e}\")\n",
    "        return None\n",
    "    except json.JSONDecodeError as e:\n",
    "        print(f\"Failed to parse JSON: {e}\")\n",
    "        return None\n"
   ]
  },
  {
   "cell_type": "code",
   "execution_count": 5,
   "metadata": {},
   "outputs": [],
   "source": [
    "def rdf_stats(onto, release, owl_file):\n",
    "    date = release[\"tag_name\"].replace(\"v\", \"\")\n",
    "    prefix = f\"http://purl.obolibrary.org/obo/{onto['curie']}_\"\n",
    "    result = run_and_parse_json(f'cat \"{owl_file}\" | node ../src/rdf-stats.js application/rdf+xml \"{prefix}\"')\n",
    "    return { \"ontology\": onto[\"repo\"].replace(\"_\", \"-\"), \"date\": date } | result\n",
    "\n",
    "results = []\n",
    "for onto in ONTOLOGIES:\n",
    "    for release in onto[\"releases\"]:\n",
    "        output_file = release[\"output_file\"]\n",
    "        if os.path.exists(output_file):\n",
    "            results.append(rdf_stats(onto, release, output_file))"
   ]
  },
  {
   "cell_type": "code",
   "execution_count": 6,
   "metadata": {},
   "outputs": [],
   "source": [
    "# Write ontology growth statistics to csv\n",
    "\n",
    "from csv import DictWriter\n",
    "\n",
    "with open(\"output/other-ontologies-growth.csv\", \"w\", newline=\"\") as f:\n",
    "    writer = DictWriter(f, fieldnames=results[0].keys())\n",
    "    writer.writeheader()\n",
    "    writer.writerows(results)"
   ]
  }
 ],
 "metadata": {
  "kernelspec": {
   "display_name": ".venv",
   "language": "python",
   "name": "python3"
  },
  "language_info": {
   "codemirror_mode": {
    "name": "ipython",
    "version": 3
   },
   "file_extension": ".py",
   "mimetype": "text/x-python",
   "name": "python",
   "nbconvert_exporter": "python",
   "pygments_lexer": "ipython3",
   "version": "3.10.12"
  }
 },
 "nbformat": 4,
 "nbformat_minor": 2
}
