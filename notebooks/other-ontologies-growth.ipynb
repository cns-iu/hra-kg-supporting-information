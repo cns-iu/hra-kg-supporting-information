{
 "cells": [
  {
   "cell_type": "markdown",
   "metadata": {},
   "source": [
    "# Uberon, CL, and PCL growth over time"
   ]
  },
  {
   "cell_type": "code",
   "execution_count": 1,
   "metadata": {},
   "outputs": [
    {
     "name": "stdout",
     "output_type": "stream",
     "text": [
      "Requirement already satisfied: requests in /teradata/bherr/workspaces/hubmap/hra-kg-supporting-information/.venv/lib/python3.10/site-packages (2.32.3)\n",
      "Requirement already satisfied: pyoxigraph in /teradata/bherr/workspaces/hubmap/hra-kg-supporting-information/.venv/lib/python3.10/site-packages (0.4.7)\n",
      "Requirement already satisfied: charset-normalizer<4,>=2 in /teradata/bherr/workspaces/hubmap/hra-kg-supporting-information/.venv/lib/python3.10/site-packages (from requests) (3.4.1)\n",
      "Requirement already satisfied: idna<4,>=2.5 in /teradata/bherr/workspaces/hubmap/hra-kg-supporting-information/.venv/lib/python3.10/site-packages (from requests) (3.10)\n",
      "Requirement already satisfied: urllib3<3,>=1.21.1 in /teradata/bherr/workspaces/hubmap/hra-kg-supporting-information/.venv/lib/python3.10/site-packages (from requests) (2.3.0)\n",
      "Requirement already satisfied: certifi>=2017.4.17 in /teradata/bherr/workspaces/hubmap/hra-kg-supporting-information/.venv/lib/python3.10/site-packages (from requests) (2025.1.31)\n",
      "Note: you may need to restart the kernel to use updated packages.\n"
     ]
    }
   ],
   "source": [
    "%pip install requests pyoxigraph"
   ]
  },
  {
   "cell_type": "code",
   "execution_count": 2,
   "metadata": {},
   "outputs": [],
   "source": [
    "ONTOLOGIES = [\n",
    "    {\"curie\": \"UBERON\", \"owner\": \"obophenotype\", \"repo\": \"uberon\", \"owl-file\": \"uberon-base.owl\" },\n",
    "    {\"curie\": \"CL\", \"owner\": \"obophenotype\", \"repo\": \"cell-ontology\", \"owl-file\": \"cl-base.owl\" },\n",
    "    {\"curie\": \"PCL\", \"owner\": \"obophenotype\", \"repo\": \"provisional_cell_ontology\", \"owl-file\": \"pcl-base.owl\" },\n",
    "]"
   ]
  },
  {
   "cell_type": "markdown",
   "metadata": {},
   "source": [
    "## Download all versions of select ontologies"
   ]
  },
  {
   "cell_type": "code",
   "execution_count": 3,
   "metadata": {},
   "outputs": [],
   "source": [
    "import requests\n",
    "import os.path\n",
    "\n",
    "for onto in ONTOLOGIES:\n",
    "    owner,repo,owl_file = onto[\"owner\"],onto[\"repo\"],onto[\"owl-file\"]\n",
    "    releases_url = f\"https://api.github.com/repos/{owner}/{repo}/releases\"\n",
    "    releases = requests.get(releases_url).json()\n",
    "    onto[\"releases\"] = releases\n",
    "    for release in releases:\n",
    "        tag = release[\"tag_name\"]\n",
    "        download_url = f\"https://github.com/{owner}/{repo}/releases/download/{tag}/{owl_file}\"\n",
    "        if len([ r for r in release[\"assets\"] if r[\"name\"] == owl_file ]) == 0:\n",
    "            download_url = f\"https://raw.githubusercontent.com/{owner}/{repo}/refs/tags/{tag}/{owl_file}\"\n",
    "\n",
    "        output_file = f\"output/onto/{repo}/{tag}/{owl_file}\"\n",
    "        release[\"output_file\"] = output_file\n",
    "        if not os.path.exists(output_file):\n",
    "            print(download_url)\n",
    "            !mkdir -p output/onto/{repo}/{tag}\n",
    "            !curl -H \"Accept: application/octet-stream\" -f -L -o {output_file} {download_url}"
   ]
  },
  {
   "cell_type": "markdown",
   "metadata": {},
   "source": [
    "## Query all versions of select ontologies"
   ]
  },
  {
   "cell_type": "code",
   "execution_count": 4,
   "metadata": {},
   "outputs": [],
   "source": [
    "from pyoxigraph import Store, RdfFormat\n",
    "\n",
    "# Read in SPARQL query to compute statistics for each version of each ontology\n",
    "query = open(\"ontology-stats.rq\", \"rt\").read()\n",
    "\n",
    "def doQuery(onto, release, owl_file):\n",
    "    store = Store()\n",
    "    store.bulk_load(path=owl_file, format=RdfFormat.RDF_XML)\n",
    "\n",
    "    results = store.query(query.replace(\"UBERON\", onto[\"curie\"]))\n",
    "    for row in results:\n",
    "         date = release[\"tag_name\"].replace(\"v\", \"\")\n",
    "         result = dict((v.value, int(row[v].value)) for v in results.variables)\n",
    "         return { \"ontology\": onto[\"repo\"].replace(\"_\", \"-\"), \"date\": date } | result\n",
    "\n",
    "results = []\n",
    "for onto in ONTOLOGIES:\n",
    "    for release in onto[\"releases\"]:\n",
    "        output_file = release[\"output_file\"]\n",
    "        if os.path.exists(output_file):\n",
    "            results.append(doQuery(onto, release, output_file))"
   ]
  },
  {
   "cell_type": "code",
   "execution_count": 5,
   "metadata": {},
   "outputs": [],
   "source": [
    "# Write ontology growth statistics to csv\n",
    "\n",
    "from csv import DictWriter\n",
    "\n",
    "with open(\"output/other-ontologies-growth.csv\", \"w\", newline=\"\") as f:\n",
    "    writer = DictWriter(f, fieldnames=results[0].keys())\n",
    "    writer.writeheader()\n",
    "    writer.writerows(results)"
   ]
  }
 ],
 "metadata": {
  "kernelspec": {
   "display_name": ".venv",
   "language": "python",
   "name": "python3"
  },
  "language_info": {
   "codemirror_mode": {
    "name": "ipython",
    "version": 3
   },
   "file_extension": ".py",
   "mimetype": "text/x-python",
   "name": "python",
   "nbconvert_exporter": "python",
   "pygments_lexer": "ipython3",
   "version": "3.10.12"
  }
 },
 "nbformat": 4,
 "nbformat_minor": 2
}
