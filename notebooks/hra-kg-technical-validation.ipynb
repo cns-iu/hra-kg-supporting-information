{
 "cells": [
  {
   "cell_type": "markdown",
   "metadata": {},
   "source": [
    "## A notebook for the Technical Validation part of the paper"
   ]
  },
  {
   "cell_type": "markdown",
   "metadata": {},
   "source": [
    "## Import and install libraries"
   ]
  },
  {
   "cell_type": "code",
   "execution_count": 29,
   "metadata": {},
   "outputs": [
    {
     "name": "stdout",
     "output_type": "stream",
     "text": [
      "Requirement already satisfied: pandas in c:\\users\\abueckle\\documents\\github\\hra-kg-supporting-information\\.venv\\lib\\site-packages (2.2.3)Note: you may need to restart the kernel to use updated packages.\n",
      "\n",
      "Requirement already satisfied: seaborn in c:\\users\\abueckle\\documents\\github\\hra-kg-supporting-information\\.venv\\lib\\site-packages (0.13.2)\n",
      "Requirement already satisfied: matplotlib in c:\\users\\abueckle\\documents\\github\\hra-kg-supporting-information\\.venv\\lib\\site-packages (3.10.0)\n",
      "Requirement already satisfied: requests in c:\\users\\abueckle\\documents\\github\\hra-kg-supporting-information\\.venv\\lib\\site-packages (2.32.3)\n",
      "Requirement already satisfied: statsmodels in c:\\users\\abueckle\\documents\\github\\hra-kg-supporting-information\\.venv\\lib\\site-packages (0.14.4)\n",
      "Requirement already satisfied: numpy>=1.26.0 in c:\\users\\abueckle\\documents\\github\\hra-kg-supporting-information\\.venv\\lib\\site-packages (from pandas) (2.1.2)\n",
      "Requirement already satisfied: python-dateutil>=2.8.2 in c:\\users\\abueckle\\documents\\github\\hra-kg-supporting-information\\.venv\\lib\\site-packages (from pandas) (2.9.0.post0)\n",
      "Requirement already satisfied: pytz>=2020.1 in c:\\users\\abueckle\\documents\\github\\hra-kg-supporting-information\\.venv\\lib\\site-packages (from pandas) (2024.2)\n",
      "Requirement already satisfied: tzdata>=2022.7 in c:\\users\\abueckle\\documents\\github\\hra-kg-supporting-information\\.venv\\lib\\site-packages (from pandas) (2024.2)\n",
      "Requirement already satisfied: contourpy>=1.0.1 in c:\\users\\abueckle\\documents\\github\\hra-kg-supporting-information\\.venv\\lib\\site-packages (from matplotlib) (1.3.1)\n",
      "Requirement already satisfied: cycler>=0.10 in c:\\users\\abueckle\\documents\\github\\hra-kg-supporting-information\\.venv\\lib\\site-packages (from matplotlib) (0.12.1)\n",
      "Requirement already satisfied: fonttools>=4.22.0 in c:\\users\\abueckle\\documents\\github\\hra-kg-supporting-information\\.venv\\lib\\site-packages (from matplotlib) (4.55.7)\n",
      "Requirement already satisfied: kiwisolver>=1.3.1 in c:\\users\\abueckle\\documents\\github\\hra-kg-supporting-information\\.venv\\lib\\site-packages (from matplotlib) (1.4.8)\n",
      "Requirement already satisfied: packaging>=20.0 in c:\\users\\abueckle\\documents\\github\\hra-kg-supporting-information\\.venv\\lib\\site-packages (from matplotlib) (24.1)\n",
      "Requirement already satisfied: pillow>=8 in c:\\users\\abueckle\\documents\\github\\hra-kg-supporting-information\\.venv\\lib\\site-packages (from matplotlib) (11.1.0)\n",
      "Requirement already satisfied: pyparsing>=2.3.1 in c:\\users\\abueckle\\documents\\github\\hra-kg-supporting-information\\.venv\\lib\\site-packages (from matplotlib) (3.2.1)\n",
      "Requirement already satisfied: charset-normalizer<4,>=2 in c:\\users\\abueckle\\documents\\github\\hra-kg-supporting-information\\.venv\\lib\\site-packages (from requests) (3.4.0)\n",
      "Requirement already satisfied: idna<4,>=2.5 in c:\\users\\abueckle\\documents\\github\\hra-kg-supporting-information\\.venv\\lib\\site-packages (from requests) (3.10)\n",
      "Requirement already satisfied: urllib3<3,>=1.21.1 in c:\\users\\abueckle\\documents\\github\\hra-kg-supporting-information\\.venv\\lib\\site-packages (from requests) (2.0.7)\n",
      "Requirement already satisfied: certifi>=2017.4.17 in c:\\users\\abueckle\\documents\\github\\hra-kg-supporting-information\\.venv\\lib\\site-packages (from requests) (2024.8.30)\n",
      "Requirement already satisfied: scipy!=1.9.2,>=1.8 in c:\\users\\abueckle\\documents\\github\\hra-kg-supporting-information\\.venv\\lib\\site-packages (from statsmodels) (1.15.1)\n",
      "Requirement already satisfied: patsy>=0.5.6 in c:\\users\\abueckle\\documents\\github\\hra-kg-supporting-information\\.venv\\lib\\site-packages (from statsmodels) (1.0.1)\n",
      "Requirement already satisfied: six>=1.5 in c:\\users\\abueckle\\documents\\github\\hra-kg-supporting-information\\.venv\\lib\\site-packages (from python-dateutil>=2.8.2->pandas) (1.16.0)\n"
     ]
    },
    {
     "name": "stderr",
     "output_type": "stream",
     "text": [
      "\n",
      "[notice] A new release of pip is available: 24.3.1 -> 25.1.1\n",
      "[notice] To update, run: python.exe -m pip install --upgrade pip\n"
     ]
    }
   ],
   "source": [
    "%pip install pandas seaborn matplotlib requests statsmodels\n",
    " \n",
    "import pandas as pd\n",
    "import seaborn as sns\n",
    "import matplotlib.pyplot as plt\n",
    "from matplotlib.dates import MonthLocator, DateFormatter\n",
    "import requests\n",
    "import matplotlib.colors as mcolors\n",
    "import matplotlib as mpl\n",
    "import os"
   ]
  },
  {
   "cell_type": "markdown",
   "metadata": {},
   "source": [
    "## Global settings"
   ]
  },
  {
   "cell_type": "code",
   "execution_count": 30,
   "metadata": {},
   "outputs": [],
   "source": [
    "# set theme\n",
    "sns.set_theme(rc={'figure.figsize': (11,7)})\n",
    "\n",
    "# Set global font sizes using rcParams\n",
    "plt.rcParams.update({\n",
    "    \"axes.titlesize\": 27,    # Font size for plot titles\n",
    "    \"axes.labelsize\": 18,    # Font size for x and y labels\n",
    "    \"xtick.labelsize\": 17,   # Font size for x-axis tick labels\n",
    "    \"ytick.labelsize\": 17,  # Font size for y-axis tick labels\n",
    "    \"legend.fontsize\": 17,\n",
    "    \"legend.title_fontsize\":17\n",
    "})"
   ]
  },
  {
   "cell_type": "markdown",
   "metadata": {},
   "source": [
    "## Growth of Uberon and CL over time from other sources"
   ]
  },
  {
   "cell_type": "code",
   "execution_count": 31,
   "metadata": {},
   "outputs": [
    {
     "data": {
      "application/vnd.microsoft.datawrangler.viewer.v0+json": {
       "columns": [
        {
         "name": "index",
         "rawType": "int64",
         "type": "integer"
        },
        {
         "name": "ontology",
         "rawType": "object",
         "type": "string"
        },
        {
         "name": "date",
         "rawType": "datetime64[ns]",
         "type": "datetime"
        },
        {
         "name": "nodes",
         "rawType": "int64",
         "type": "integer"
        },
        {
         "name": "node_types",
         "rawType": "int64",
         "type": "integer"
        },
        {
         "name": "edges",
         "rawType": "int64",
         "type": "integer"
        },
        {
         "name": "edge_types",
         "rawType": "int64",
         "type": "integer"
        }
       ],
       "ref": "35731f72-3ba3-4d9c-9fd5-b678abd183be",
       "rows": [
        [
         "0",
         "uberon",
         "2025-05-28 00:00:00",
         "16010",
         "16016",
         "49551",
         "22"
        ],
        [
         "1",
         "uberon",
         "2025-04-09 00:00:00",
         "15984",
         "15990",
         "49456",
         "22"
        ],
        [
         "2",
         "uberon",
         "2025-01-15 00:00:00",
         "15959",
         "15965",
         "50974",
         "22"
        ],
        [
         "3",
         "uberon",
         "2024-11-25 00:00:00",
         "15942",
         "15948",
         "50888",
         "22"
        ],
        [
         "4",
         "uberon",
         "2024-09-03 00:00:00",
         "15937",
         "15943",
         "50781",
         "22"
        ],
        [
         "5",
         "uberon",
         "2024-08-07 00:00:00",
         "15922",
         "15928",
         "50673",
         "22"
        ],
        [
         "6",
         "uberon",
         "2024-07-02 00:00:00",
         "15921",
         "15927",
         "50677",
         "22"
        ],
        [
         "7",
         "uberon",
         "2024-05-13 00:00:00",
         "15866",
         "15872",
         "49240",
         "19"
        ],
        [
         "8",
         "uberon",
         "2024-03-22 00:00:00",
         "15865",
         "15872",
         "49355",
         "19"
        ],
        [
         "9",
         "uberon",
         "2024-02-20 00:00:00",
         "15858",
         "15862",
         "38767",
         "21"
        ],
        [
         "10",
         "uberon",
         "2024-01-18 00:00:00",
         "15858",
         "15862",
         "38770",
         "21"
        ],
        [
         "11",
         "uberon",
         "2023-12-08 00:00:00",
         "15837",
         "15841",
         "38664",
         "21"
        ],
        [
         "12",
         "uberon",
         "2023-10-27 00:00:00",
         "15834",
         "15838",
         "38656",
         "21"
        ],
        [
         "13",
         "uberon",
         "2023-09-05 00:00:00",
         "15830",
         "15834",
         "38361",
         "21"
        ],
        [
         "14",
         "uberon",
         "2023-07-25 00:00:00",
         "15822",
         "15826",
         "38335",
         "21"
        ],
        [
         "15",
         "uberon",
         "2023-06-28 00:00:00",
         "15818",
         "15822",
         "38311",
         "21"
        ],
        [
         "16",
         "uberon",
         "2023-05-23 00:00:00",
         "15810",
         "15814",
         "38283",
         "21"
        ],
        [
         "17",
         "uberon",
         "2023-04-19 00:00:00",
         "15790",
         "15794",
         "38238",
         "21"
        ],
        [
         "18",
         "uberon",
         "2023-03-15 00:00:00",
         "15788",
         "15792",
         "37351",
         "21"
        ],
        [
         "19",
         "uberon",
         "2023-02-14 00:00:00",
         "15779",
         "15783",
         "37313",
         "21"
        ],
        [
         "20",
         "uberon",
         "2023-01-09 00:00:00",
         "15719",
         "15723",
         "36963",
         "21"
        ],
        [
         "21",
         "uberon",
         "2022-12-13 00:00:00",
         "15705",
         "15709",
         "36918",
         "21"
        ],
        [
         "22",
         "uberon",
         "2022-09-30 00:00:00",
         "15685",
         "15687",
         "36866",
         "21"
        ],
        [
         "23",
         "uberon",
         "2022-08-19 00:00:00",
         "15673",
         "15675",
         "36830",
         "21"
        ],
        [
         "24",
         "uberon",
         "2022-06-30 00:00:00",
         "15636",
         "15638",
         "36698",
         "21"
        ],
        [
         "25",
         "uberon",
         "2022-06-20 00:00:00",
         "15627",
         "15629",
         "36684",
         "21"
        ],
        [
         "26",
         "uberon",
         "2022-05-27 00:00:00",
         "15591",
         "15593",
         "36494",
         "21"
        ],
        [
         "27",
         "uberon",
         "2022-05-17 00:00:00",
         "15590",
         "15592",
         "34664",
         "21"
        ],
        [
         "28",
         "uberon",
         "2022-04-18 00:00:00",
         "15584",
         "15586",
         "34653",
         "21"
        ],
        [
         "29",
         "uberon",
         "2022-04-05 00:00:00",
         "15583",
         "15585",
         "34651",
         "21"
        ],
        [
         "30",
         "uberon",
         "2022-02-21 00:00:00",
         "15556",
         "15558",
         "34591",
         "21"
        ],
        [
         "31",
         "uberon",
         "2021-11-28 00:00:00",
         "15529",
         "15531",
         "34055",
         "22"
        ],
        [
         "32",
         "cell-ontology",
         "2025-04-10 00:00:00",
         "3171",
         "3184",
         "11407",
         "15"
        ],
        [
         "33",
         "cell-ontology",
         "2025-02-13 00:00:00",
         "3136",
         "3148",
         "11122",
         "15"
        ],
        [
         "34",
         "cell-ontology",
         "2025-01-08 00:00:00",
         "3122",
         "3134",
         "11069",
         "15"
        ],
        [
         "35",
         "cell-ontology",
         "2024-09-26 00:00:00",
         "3069",
         "3080",
         "10861",
         "15"
        ],
        [
         "36",
         "cell-ontology",
         "2024-08-16 00:00:00",
         "3035",
         "3044",
         "10560",
         "15"
        ],
        [
         "37",
         "cell-ontology",
         "2024-07-10 00:00:00",
         "3012",
         "3021",
         "10483",
         "15"
        ],
        [
         "38",
         "cell-ontology",
         "2024-05-15 00:00:00",
         "3007",
         "3016",
         "10486",
         "14"
        ],
        [
         "39",
         "cell-ontology",
         "2024-04-05 00:00:00",
         "3001",
         "3010",
         "10413",
         "14"
        ],
        [
         "40",
         "cell-ontology",
         "2024-02-13 00:00:00",
         "2994",
         "3000",
         "8953",
         "14"
        ],
        [
         "41",
         "cell-ontology",
         "2024-01-04 00:00:00",
         "2990",
         "2996",
         "8220",
         "13"
        ],
        [
         "42",
         "cell-ontology",
         "2023-12-05 00:00:00",
         "2989",
         "2995",
         "8225",
         "13"
        ],
        [
         "43",
         "cell-ontology",
         "2023-10-19 00:00:00",
         "2986",
         "2992",
         "8229",
         "14"
        ],
        [
         "44",
         "cell-ontology",
         "2023-09-21 00:00:00",
         "2972",
         "2978",
         "8145",
         "14"
        ],
        [
         "45",
         "cell-ontology",
         "2023-08-24 00:00:00",
         "2970",
         "2976",
         "8423",
         "14"
        ],
        [
         "46",
         "cell-ontology",
         "2023-07-20 00:00:00",
         "2964",
         "2970",
         "8420",
         "13"
        ],
        [
         "47",
         "cell-ontology",
         "2023-06-22 00:00:00",
         "2963",
         "2969",
         "8418",
         "13"
        ],
        [
         "48",
         "cell-ontology",
         "2023-05-22 00:00:00",
         "2943",
         "2949",
         "8342",
         "13"
        ],
        [
         "49",
         "cell-ontology",
         "2023-04-20 00:00:00",
         "2938",
         "2944",
         "8179",
         "13"
        ]
       ],
       "shape": {
        "columns": 6,
        "rows": 82
       }
      },
      "text/html": [
       "<div>\n",
       "<style scoped>\n",
       "    .dataframe tbody tr th:only-of-type {\n",
       "        vertical-align: middle;\n",
       "    }\n",
       "\n",
       "    .dataframe tbody tr th {\n",
       "        vertical-align: top;\n",
       "    }\n",
       "\n",
       "    .dataframe thead th {\n",
       "        text-align: right;\n",
       "    }\n",
       "</style>\n",
       "<table border=\"1\" class=\"dataframe\">\n",
       "  <thead>\n",
       "    <tr style=\"text-align: right;\">\n",
       "      <th></th>\n",
       "      <th>ontology</th>\n",
       "      <th>date</th>\n",
       "      <th>nodes</th>\n",
       "      <th>node_types</th>\n",
       "      <th>edges</th>\n",
       "      <th>edge_types</th>\n",
       "    </tr>\n",
       "  </thead>\n",
       "  <tbody>\n",
       "    <tr>\n",
       "      <th>0</th>\n",
       "      <td>uberon</td>\n",
       "      <td>2025-05-28</td>\n",
       "      <td>16010</td>\n",
       "      <td>16016</td>\n",
       "      <td>49551</td>\n",
       "      <td>22</td>\n",
       "    </tr>\n",
       "    <tr>\n",
       "      <th>1</th>\n",
       "      <td>uberon</td>\n",
       "      <td>2025-04-09</td>\n",
       "      <td>15984</td>\n",
       "      <td>15990</td>\n",
       "      <td>49456</td>\n",
       "      <td>22</td>\n",
       "    </tr>\n",
       "    <tr>\n",
       "      <th>2</th>\n",
       "      <td>uberon</td>\n",
       "      <td>2025-01-15</td>\n",
       "      <td>15959</td>\n",
       "      <td>15965</td>\n",
       "      <td>50974</td>\n",
       "      <td>22</td>\n",
       "    </tr>\n",
       "    <tr>\n",
       "      <th>3</th>\n",
       "      <td>uberon</td>\n",
       "      <td>2024-11-25</td>\n",
       "      <td>15942</td>\n",
       "      <td>15948</td>\n",
       "      <td>50888</td>\n",
       "      <td>22</td>\n",
       "    </tr>\n",
       "    <tr>\n",
       "      <th>4</th>\n",
       "      <td>uberon</td>\n",
       "      <td>2024-09-03</td>\n",
       "      <td>15937</td>\n",
       "      <td>15943</td>\n",
       "      <td>50781</td>\n",
       "      <td>22</td>\n",
       "    </tr>\n",
       "    <tr>\n",
       "      <th>...</th>\n",
       "      <td>...</td>\n",
       "      <td>...</td>\n",
       "      <td>...</td>\n",
       "      <td>...</td>\n",
       "      <td>...</td>\n",
       "      <td>...</td>\n",
       "    </tr>\n",
       "    <tr>\n",
       "      <th>77</th>\n",
       "      <td>provisional-cell-ontology</td>\n",
       "      <td>2022-01-07</td>\n",
       "      <td>1827</td>\n",
       "      <td>1880</td>\n",
       "      <td>5142</td>\n",
       "      <td>7</td>\n",
       "    </tr>\n",
       "    <tr>\n",
       "      <th>78</th>\n",
       "      <td>provisional-cell-ontology</td>\n",
       "      <td>2021-12-17</td>\n",
       "      <td>1825</td>\n",
       "      <td>1875</td>\n",
       "      <td>5132</td>\n",
       "      <td>6</td>\n",
       "    </tr>\n",
       "    <tr>\n",
       "      <th>79</th>\n",
       "      <td>provisional-cell-ontology</td>\n",
       "      <td>2021-12-08</td>\n",
       "      <td>1824</td>\n",
       "      <td>1873</td>\n",
       "      <td>5115</td>\n",
       "      <td>5</td>\n",
       "    </tr>\n",
       "    <tr>\n",
       "      <th>80</th>\n",
       "      <td>provisional-cell-ontology</td>\n",
       "      <td>2021-12-03</td>\n",
       "      <td>1824</td>\n",
       "      <td>1873</td>\n",
       "      <td>5115</td>\n",
       "      <td>5</td>\n",
       "    </tr>\n",
       "    <tr>\n",
       "      <th>81</th>\n",
       "      <td>provisional-cell-ontology</td>\n",
       "      <td>2021-11-24</td>\n",
       "      <td>1</td>\n",
       "      <td>2</td>\n",
       "      <td>1</td>\n",
       "      <td>1</td>\n",
       "    </tr>\n",
       "  </tbody>\n",
       "</table>\n",
       "<p>82 rows × 6 columns</p>\n",
       "</div>"
      ],
      "text/plain": [
       "                     ontology       date  nodes  node_types  edges  edge_types\n",
       "0                      uberon 2025-05-28  16010       16016  49551          22\n",
       "1                      uberon 2025-04-09  15984       15990  49456          22\n",
       "2                      uberon 2025-01-15  15959       15965  50974          22\n",
       "3                      uberon 2024-11-25  15942       15948  50888          22\n",
       "4                      uberon 2024-09-03  15937       15943  50781          22\n",
       "..                        ...        ...    ...         ...    ...         ...\n",
       "77  provisional-cell-ontology 2022-01-07   1827        1880   5142           7\n",
       "78  provisional-cell-ontology 2021-12-17   1825        1875   5132           6\n",
       "79  provisional-cell-ontology 2021-12-08   1824        1873   5115           5\n",
       "80  provisional-cell-ontology 2021-12-03   1824        1873   5115           5\n",
       "81  provisional-cell-ontology 2021-11-24      1           2      1           1\n",
       "\n",
       "[82 rows x 6 columns]"
      ]
     },
     "execution_count": 31,
     "metadata": {},
     "output_type": "execute_result"
    }
   ],
   "source": [
    "# load data\n",
    "df_uberon_cl_growth = pd.read_csv(\n",
    "    \"output/other-ontologies-growth.csv\", parse_dates=['date'])\n",
    "df_uberon_cl_growth"
   ]
  },
  {
   "cell_type": "code",
   "execution_count": 32,
   "metadata": {},
   "outputs": [
    {
     "data": {
      "application/vnd.microsoft.datawrangler.viewer.v0+json": {
       "columns": [
        {
         "name": "index",
         "rawType": "int64",
         "type": "integer"
        },
        {
         "name": "ontology",
         "rawType": "object",
         "type": "string"
        },
        {
         "name": "date",
         "rawType": "datetime64[ns]",
         "type": "datetime"
        },
        {
         "name": "type",
         "rawType": "object",
         "type": "string"
        },
        {
         "name": "count",
         "rawType": "int64",
         "type": "integer"
        }
       ],
       "ref": "05fceec8-01a9-46ce-b568-40673d066624",
       "rows": [
        [
         "0",
         "uberon",
         "2025-05-28 00:00:00",
         "nodes",
         "16010"
        ],
        [
         "1",
         "uberon",
         "2025-04-09 00:00:00",
         "nodes",
         "15984"
        ],
        [
         "2",
         "uberon",
         "2025-01-15 00:00:00",
         "nodes",
         "15959"
        ],
        [
         "3",
         "uberon",
         "2024-11-25 00:00:00",
         "nodes",
         "15942"
        ],
        [
         "4",
         "uberon",
         "2024-09-03 00:00:00",
         "nodes",
         "15937"
        ],
        [
         "5",
         "uberon",
         "2024-08-07 00:00:00",
         "nodes",
         "15922"
        ],
        [
         "6",
         "uberon",
         "2024-07-02 00:00:00",
         "nodes",
         "15921"
        ],
        [
         "7",
         "uberon",
         "2024-05-13 00:00:00",
         "nodes",
         "15866"
        ],
        [
         "8",
         "uberon",
         "2024-03-22 00:00:00",
         "nodes",
         "15865"
        ],
        [
         "9",
         "uberon",
         "2024-02-20 00:00:00",
         "nodes",
         "15858"
        ],
        [
         "10",
         "uberon",
         "2024-01-18 00:00:00",
         "nodes",
         "15858"
        ],
        [
         "11",
         "uberon",
         "2023-12-08 00:00:00",
         "nodes",
         "15837"
        ],
        [
         "12",
         "uberon",
         "2023-10-27 00:00:00",
         "nodes",
         "15834"
        ],
        [
         "13",
         "uberon",
         "2023-09-05 00:00:00",
         "nodes",
         "15830"
        ],
        [
         "14",
         "uberon",
         "2023-07-25 00:00:00",
         "nodes",
         "15822"
        ],
        [
         "15",
         "uberon",
         "2023-06-28 00:00:00",
         "nodes",
         "15818"
        ],
        [
         "16",
         "uberon",
         "2023-05-23 00:00:00",
         "nodes",
         "15810"
        ],
        [
         "17",
         "uberon",
         "2023-04-19 00:00:00",
         "nodes",
         "15790"
        ],
        [
         "18",
         "uberon",
         "2023-03-15 00:00:00",
         "nodes",
         "15788"
        ],
        [
         "19",
         "uberon",
         "2023-02-14 00:00:00",
         "nodes",
         "15779"
        ],
        [
         "20",
         "uberon",
         "2023-01-09 00:00:00",
         "nodes",
         "15719"
        ],
        [
         "21",
         "uberon",
         "2022-12-13 00:00:00",
         "nodes",
         "15705"
        ],
        [
         "22",
         "uberon",
         "2022-09-30 00:00:00",
         "nodes",
         "15685"
        ],
        [
         "23",
         "uberon",
         "2022-08-19 00:00:00",
         "nodes",
         "15673"
        ],
        [
         "24",
         "uberon",
         "2022-06-30 00:00:00",
         "nodes",
         "15636"
        ],
        [
         "25",
         "uberon",
         "2022-06-20 00:00:00",
         "nodes",
         "15627"
        ],
        [
         "26",
         "uberon",
         "2022-05-27 00:00:00",
         "nodes",
         "15591"
        ],
        [
         "27",
         "uberon",
         "2022-05-17 00:00:00",
         "nodes",
         "15590"
        ],
        [
         "28",
         "uberon",
         "2022-04-18 00:00:00",
         "nodes",
         "15584"
        ],
        [
         "29",
         "uberon",
         "2022-04-05 00:00:00",
         "nodes",
         "15583"
        ],
        [
         "30",
         "uberon",
         "2022-02-21 00:00:00",
         "nodes",
         "15556"
        ],
        [
         "31",
         "uberon",
         "2021-11-28 00:00:00",
         "nodes",
         "15529"
        ],
        [
         "32",
         "cell-ontology",
         "2025-04-10 00:00:00",
         "nodes",
         "3171"
        ],
        [
         "33",
         "cell-ontology",
         "2025-02-13 00:00:00",
         "nodes",
         "3136"
        ],
        [
         "34",
         "cell-ontology",
         "2025-01-08 00:00:00",
         "nodes",
         "3122"
        ],
        [
         "35",
         "cell-ontology",
         "2024-09-26 00:00:00",
         "nodes",
         "3069"
        ],
        [
         "36",
         "cell-ontology",
         "2024-08-16 00:00:00",
         "nodes",
         "3035"
        ],
        [
         "37",
         "cell-ontology",
         "2024-07-10 00:00:00",
         "nodes",
         "3012"
        ],
        [
         "38",
         "cell-ontology",
         "2024-05-15 00:00:00",
         "nodes",
         "3007"
        ],
        [
         "39",
         "cell-ontology",
         "2024-04-05 00:00:00",
         "nodes",
         "3001"
        ],
        [
         "40",
         "cell-ontology",
         "2024-02-13 00:00:00",
         "nodes",
         "2994"
        ],
        [
         "41",
         "cell-ontology",
         "2024-01-04 00:00:00",
         "nodes",
         "2990"
        ],
        [
         "42",
         "cell-ontology",
         "2023-12-05 00:00:00",
         "nodes",
         "2989"
        ],
        [
         "43",
         "cell-ontology",
         "2023-10-19 00:00:00",
         "nodes",
         "2986"
        ],
        [
         "44",
         "cell-ontology",
         "2023-09-21 00:00:00",
         "nodes",
         "2972"
        ],
        [
         "45",
         "cell-ontology",
         "2023-08-24 00:00:00",
         "nodes",
         "2970"
        ],
        [
         "46",
         "cell-ontology",
         "2023-07-20 00:00:00",
         "nodes",
         "2964"
        ],
        [
         "47",
         "cell-ontology",
         "2023-06-22 00:00:00",
         "nodes",
         "2963"
        ],
        [
         "48",
         "cell-ontology",
         "2023-05-22 00:00:00",
         "nodes",
         "2943"
        ],
        [
         "49",
         "cell-ontology",
         "2023-04-20 00:00:00",
         "nodes",
         "2938"
        ]
       ],
       "shape": {
        "columns": 4,
        "rows": 328
       }
      },
      "text/html": [
       "<div>\n",
       "<style scoped>\n",
       "    .dataframe tbody tr th:only-of-type {\n",
       "        vertical-align: middle;\n",
       "    }\n",
       "\n",
       "    .dataframe tbody tr th {\n",
       "        vertical-align: top;\n",
       "    }\n",
       "\n",
       "    .dataframe thead th {\n",
       "        text-align: right;\n",
       "    }\n",
       "</style>\n",
       "<table border=\"1\" class=\"dataframe\">\n",
       "  <thead>\n",
       "    <tr style=\"text-align: right;\">\n",
       "      <th></th>\n",
       "      <th>ontology</th>\n",
       "      <th>date</th>\n",
       "      <th>type</th>\n",
       "      <th>count</th>\n",
       "    </tr>\n",
       "  </thead>\n",
       "  <tbody>\n",
       "    <tr>\n",
       "      <th>0</th>\n",
       "      <td>uberon</td>\n",
       "      <td>2025-05-28</td>\n",
       "      <td>nodes</td>\n",
       "      <td>16010</td>\n",
       "    </tr>\n",
       "    <tr>\n",
       "      <th>1</th>\n",
       "      <td>uberon</td>\n",
       "      <td>2025-04-09</td>\n",
       "      <td>nodes</td>\n",
       "      <td>15984</td>\n",
       "    </tr>\n",
       "    <tr>\n",
       "      <th>2</th>\n",
       "      <td>uberon</td>\n",
       "      <td>2025-01-15</td>\n",
       "      <td>nodes</td>\n",
       "      <td>15959</td>\n",
       "    </tr>\n",
       "    <tr>\n",
       "      <th>3</th>\n",
       "      <td>uberon</td>\n",
       "      <td>2024-11-25</td>\n",
       "      <td>nodes</td>\n",
       "      <td>15942</td>\n",
       "    </tr>\n",
       "    <tr>\n",
       "      <th>4</th>\n",
       "      <td>uberon</td>\n",
       "      <td>2024-09-03</td>\n",
       "      <td>nodes</td>\n",
       "      <td>15937</td>\n",
       "    </tr>\n",
       "    <tr>\n",
       "      <th>...</th>\n",
       "      <td>...</td>\n",
       "      <td>...</td>\n",
       "      <td>...</td>\n",
       "      <td>...</td>\n",
       "    </tr>\n",
       "    <tr>\n",
       "      <th>323</th>\n",
       "      <td>provisional-cell-ontology</td>\n",
       "      <td>2022-01-07</td>\n",
       "      <td>edge_types</td>\n",
       "      <td>7</td>\n",
       "    </tr>\n",
       "    <tr>\n",
       "      <th>324</th>\n",
       "      <td>provisional-cell-ontology</td>\n",
       "      <td>2021-12-17</td>\n",
       "      <td>edge_types</td>\n",
       "      <td>6</td>\n",
       "    </tr>\n",
       "    <tr>\n",
       "      <th>325</th>\n",
       "      <td>provisional-cell-ontology</td>\n",
       "      <td>2021-12-08</td>\n",
       "      <td>edge_types</td>\n",
       "      <td>5</td>\n",
       "    </tr>\n",
       "    <tr>\n",
       "      <th>326</th>\n",
       "      <td>provisional-cell-ontology</td>\n",
       "      <td>2021-12-03</td>\n",
       "      <td>edge_types</td>\n",
       "      <td>5</td>\n",
       "    </tr>\n",
       "    <tr>\n",
       "      <th>327</th>\n",
       "      <td>provisional-cell-ontology</td>\n",
       "      <td>2021-11-24</td>\n",
       "      <td>edge_types</td>\n",
       "      <td>1</td>\n",
       "    </tr>\n",
       "  </tbody>\n",
       "</table>\n",
       "<p>328 rows × 4 columns</p>\n",
       "</div>"
      ],
      "text/plain": [
       "                      ontology       date        type  count\n",
       "0                       uberon 2025-05-28       nodes  16010\n",
       "1                       uberon 2025-04-09       nodes  15984\n",
       "2                       uberon 2025-01-15       nodes  15959\n",
       "3                       uberon 2024-11-25       nodes  15942\n",
       "4                       uberon 2024-09-03       nodes  15937\n",
       "..                         ...        ...         ...    ...\n",
       "323  provisional-cell-ontology 2022-01-07  edge_types      7\n",
       "324  provisional-cell-ontology 2021-12-17  edge_types      6\n",
       "325  provisional-cell-ontology 2021-12-08  edge_types      5\n",
       "326  provisional-cell-ontology 2021-12-03  edge_types      5\n",
       "327  provisional-cell-ontology 2021-11-24  edge_types      1\n",
       "\n",
       "[328 rows x 4 columns]"
      ]
     },
     "execution_count": 32,
     "metadata": {},
     "output_type": "execute_result"
    }
   ],
   "source": [
    "# make long and tidy, then sort by date\n",
    "df_uberon_cl_growth_long = pd.melt(df_uberon_cl_growth, id_vars=[\n",
    "                                   'ontology', 'date'], var_name='type', value_name='count')\n",
    "df_uberon_cl_growth_long"
   ]
  },
  {
   "cell_type": "code",
   "execution_count": 33,
   "metadata": {},
   "outputs": [
    {
     "data": {
      "image/png": "[encoded data removed]",
      "text/plain": [
       "<Figure size 1707.12x500 with 3 Axes>"
      ]
     },
     "metadata": {},
     "output_type": "display_data"
    }
   ],
   "source": [
    "# visualize\n",
    "g = sns.relplot(\n",
    "    data=df_uberon_cl_growth_long,\n",
    "  x='date',\n",
    "  y='count',\n",
    "  hue='type',\n",
    "  col='ontology',\n",
    "  kind='line'\n",
    ")\n",
    "\n",
    "# Rotate x-axis labels for better readability\n",
    "for ax in g.axes.flat:\n",
    "    plt.setp(ax.get_xticklabels(), rotation=90)\n",
    "    ax.get_yaxis().set_major_formatter(mpl.ticker.StrMethodFormatter('{x:,.0f}'))\n",
    "\n",
    "# set axis labels\n",
    "g.set_xlabels('Date')\n",
    "g.set_ylabels('Count')\n",
    "\n",
    "# Set y-axis to logarithmic scale\n",
    "plt.yscale('log')\n",
    "\n",
    "# Adjust legend\n",
    "g._legend.set_bbox_to_anchor((.99, 0.35))  # Adjust position\n",
    "g._legend.set_title('Entity Type')\n",
    "\n",
    "# Adjust layout to prevent label cutoff\n",
    "plt.tight_layout()\n",
    "\n",
    "plt.show()"
   ]
  },
  {
   "cell_type": "code",
   "execution_count": 34,
   "metadata": {},
   "outputs": [
    {
     "name": "stdout",
     "output_type": "stream",
     "text": [
      "Max number of nodes per ontology:\n",
      "ontology\n",
      "cell-ontology                 3171\n",
      "provisional-cell-ontology    16980\n",
      "uberon                       16010\n",
      "Name: nodes, dtype: int64\n",
      "\n",
      "Max number of edges per ontology:\n",
      "ontology\n",
      "cell-ontology                11407\n",
      "provisional-cell-ontology    73125\n",
      "uberon                       50974\n",
      "Name: edges, dtype: int64\n",
      "\n",
      "Max number of edge types per ontology:\n",
      "ontology\n",
      "cell-ontology                15\n",
      "provisional-cell-ontology     7\n",
      "uberon                       22\n",
      "Name: edge_types, dtype: int64\n",
      "\n"
     ]
    }
   ],
   "source": [
    "# compute basic stats\n",
    "print('Max number of nodes per ontology:')\n",
    "print(f'{df_uberon_cl_growth.groupby(['ontology'])['nodes'].max()}')\n",
    "print()\n",
    "\n",
    "print('Max number of edges per ontology:')\n",
    "print(f'{df_uberon_cl_growth.groupby(['ontology'])['edges'].max()}')\n",
    "print()\n",
    "\n",
    "print('Max number of edge types per ontology:')\n",
    "print(f'{df_uberon_cl_growth.groupby(['ontology'])['edge_types'].max()}')\n",
    "print()"
   ]
  },
  {
   "cell_type": "markdown",
   "metadata": {},
   "source": [
    "## (1) HRA growth over time"
   ]
  },
  {
   "cell_type": "code",
   "execution_count": 35,
   "metadata": {},
   "outputs": [
    {
     "data": {
      "application/vnd.microsoft.datawrangler.viewer.v0+json": {
       "columns": [
        {
         "name": "index",
         "rawType": "int64",
         "type": "integer"
        },
        {
         "name": "group",
         "rawType": "object",
         "type": "string"
        },
        {
         "name": "date",
         "rawType": "object",
         "type": "string"
        },
        {
         "name": "count",
         "rawType": "int64",
         "type": "integer"
        },
        {
         "name": "order",
         "rawType": "int64",
         "type": "integer"
        }
       ],
       "ref": "27662513-8c0a-4c89-be46-be56cb4f2557",
       "rows": [
        [
         "0",
         "tissue providers",
         "2020-02-10",
         "1",
         "1"
        ],
        [
         "1",
         "tissue providers",
         "2020-02-12",
         "1",
         "1"
        ],
        [
         "2",
         "tissue providers",
         "2020-05-18",
         "1",
         "1"
        ],
        [
         "3",
         "tissue providers",
         "2021-02-10",
         "1",
         "1"
        ],
        [
         "4",
         "tissue providers",
         "2021-03-16",
         "2",
         "1"
        ],
        [
         "5",
         "tissue providers",
         "2021-09-10",
         "1",
         "1"
        ],
        [
         "6",
         "tissue providers",
         "2021-09-17",
         "1",
         "1"
        ],
        [
         "7",
         "tissue providers",
         "2021-09-23",
         "1",
         "1"
        ],
        [
         "8",
         "tissue providers",
         "2021-09-24",
         "1",
         "1"
        ],
        [
         "9",
         "tissue providers",
         "2021-10-19",
         "1",
         "1"
        ],
        [
         "10",
         "tissue providers",
         "2021-11-16",
         "2",
         "1"
        ],
        [
         "11",
         "tissue providers",
         "2022-06-08",
         "1",
         "1"
        ],
        [
         "12",
         "tissue providers",
         "2022-08-18",
         "1",
         "1"
        ],
        [
         "13",
         "tissue providers",
         "2022-08-29",
         "1",
         "1"
        ],
        [
         "14",
         "tissue providers",
         "2023-01-23",
         "1",
         "1"
        ],
        [
         "15",
         "tissue providers",
         "2023-02-20",
         "1",
         "1"
        ],
        [
         "16",
         "tissue providers",
         "2023-04-25",
         "1",
         "1"
        ],
        [
         "17",
         "tissue providers",
         "2023-05-11",
         "1",
         "1"
        ],
        [
         "18",
         "tissue providers",
         "2023-06-22",
         "1",
         "1"
        ],
        [
         "19",
         "tissue providers",
         "2023-06-27",
         "1",
         "1"
        ],
        [
         "20",
         "tissue providers",
         "2023-07-28",
         "1",
         "1"
        ],
        [
         "21",
         "tissue providers",
         "2023-08-04",
         "2",
         "1"
        ],
        [
         "22",
         "tissue providers",
         "2023-08-08",
         "1",
         "1"
        ],
        [
         "23",
         "tissue providers",
         "2023-08-24",
         "2",
         "1"
        ],
        [
         "24",
         "tissue providers",
         "2023-09-11",
         "1",
         "1"
        ],
        [
         "25",
         "tissue providers",
         "2023-09-22",
         "1",
         "1"
        ],
        [
         "26",
         "tissue providers",
         "2024-01-16",
         "1",
         "1"
        ],
        [
         "27",
         "tissue providers",
         "2024-03-11",
         "2",
         "1"
        ],
        [
         "28",
         "tissue providers",
         "2024-03-14",
         "1",
         "1"
        ],
        [
         "29",
         "tissue providers",
         "2024-03-22",
         "1",
         "1"
        ],
        [
         "30",
         "tissue providers",
         "2024-05-07",
         "1",
         "1"
        ],
        [
         "31",
         "tissue providers",
         "2024-06-11",
         "1",
         "1"
        ],
        [
         "32",
         "tissue providers",
         "2024-07-22",
         "1",
         "1"
        ],
        [
         "33",
         "experts",
         "2019-04-24",
         "1",
         "2"
        ],
        [
         "34",
         "experts",
         "2019-07-30",
         "1",
         "2"
        ],
        [
         "35",
         "experts",
         "2020-01-01",
         "2",
         "2"
        ],
        [
         "36",
         "experts",
         "2021-03-12",
         "32",
         "2"
        ],
        [
         "37",
         "experts",
         "2021-05-06",
         "16",
         "2"
        ],
        [
         "38",
         "experts",
         "2021-07-28",
         "1",
         "2"
        ],
        [
         "39",
         "experts",
         "2021-12-01",
         "48",
         "2"
        ],
        [
         "40",
         "experts",
         "2021-12-15",
         "2",
         "2"
        ],
        [
         "41",
         "experts",
         "2022-05-06",
         "23",
         "2"
        ],
        [
         "42",
         "experts",
         "2022-12-15",
         "9",
         "2"
        ],
        [
         "43",
         "experts",
         "2023-06-15",
         "21",
         "2"
        ],
        [
         "44",
         "experts",
         "2023-08-18",
         "1",
         "2"
        ],
        [
         "45",
         "experts",
         "2023-12-01",
         "6",
         "2"
        ],
        [
         "46",
         "experts",
         "2023-12-05",
         "1",
         "2"
        ],
        [
         "47",
         "experts",
         "2023-12-15",
         "8",
         "2"
        ],
        [
         "48",
         "experts",
         "2024-06-15",
         "16",
         "2"
        ],
        [
         "49",
         "experts",
         "2024-08-07",
         "1",
         "2"
        ]
       ],
       "shape": {
        "columns": 4,
        "rows": 115
       }
      },
      "text/html": [
       "<div>\n",
       "<style scoped>\n",
       "    .dataframe tbody tr th:only-of-type {\n",
       "        vertical-align: middle;\n",
       "    }\n",
       "\n",
       "    .dataframe tbody tr th {\n",
       "        vertical-align: top;\n",
       "    }\n",
       "\n",
       "    .dataframe thead th {\n",
       "        text-align: right;\n",
       "    }\n",
       "</style>\n",
       "<table border=\"1\" class=\"dataframe\">\n",
       "  <thead>\n",
       "    <tr style=\"text-align: right;\">\n",
       "      <th></th>\n",
       "      <th>group</th>\n",
       "      <th>date</th>\n",
       "      <th>count</th>\n",
       "      <th>order</th>\n",
       "    </tr>\n",
       "  </thead>\n",
       "  <tbody>\n",
       "    <tr>\n",
       "      <th>0</th>\n",
       "      <td>tissue providers</td>\n",
       "      <td>2020-02-10</td>\n",
       "      <td>1</td>\n",
       "      <td>1</td>\n",
       "    </tr>\n",
       "    <tr>\n",
       "      <th>1</th>\n",
       "      <td>tissue providers</td>\n",
       "      <td>2020-02-12</td>\n",
       "      <td>1</td>\n",
       "      <td>1</td>\n",
       "    </tr>\n",
       "    <tr>\n",
       "      <th>2</th>\n",
       "      <td>tissue providers</td>\n",
       "      <td>2020-05-18</td>\n",
       "      <td>1</td>\n",
       "      <td>1</td>\n",
       "    </tr>\n",
       "    <tr>\n",
       "      <th>3</th>\n",
       "      <td>tissue providers</td>\n",
       "      <td>2021-02-10</td>\n",
       "      <td>1</td>\n",
       "      <td>1</td>\n",
       "    </tr>\n",
       "    <tr>\n",
       "      <th>4</th>\n",
       "      <td>tissue providers</td>\n",
       "      <td>2021-03-16</td>\n",
       "      <td>2</td>\n",
       "      <td>1</td>\n",
       "    </tr>\n",
       "    <tr>\n",
       "      <th>...</th>\n",
       "      <td>...</td>\n",
       "      <td>...</td>\n",
       "      <td>...</td>\n",
       "      <td>...</td>\n",
       "    </tr>\n",
       "    <tr>\n",
       "      <th>110</th>\n",
       "      <td>SOPs</td>\n",
       "      <td>2023-10-18</td>\n",
       "      <td>1</td>\n",
       "      <td>10</td>\n",
       "    </tr>\n",
       "    <tr>\n",
       "      <th>111</th>\n",
       "      <td>SOPs</td>\n",
       "      <td>2023-12-11</td>\n",
       "      <td>1</td>\n",
       "      <td>10</td>\n",
       "    </tr>\n",
       "    <tr>\n",
       "      <th>112</th>\n",
       "      <td>SOPs</td>\n",
       "      <td>2023-12-13</td>\n",
       "      <td>1</td>\n",
       "      <td>10</td>\n",
       "    </tr>\n",
       "    <tr>\n",
       "      <th>113</th>\n",
       "      <td>SOPs</td>\n",
       "      <td>2024-06-12</td>\n",
       "      <td>6</td>\n",
       "      <td>10</td>\n",
       "    </tr>\n",
       "    <tr>\n",
       "      <th>114</th>\n",
       "      <td>SOPs</td>\n",
       "      <td>2024-12-10</td>\n",
       "      <td>5</td>\n",
       "      <td>10</td>\n",
       "    </tr>\n",
       "  </tbody>\n",
       "</table>\n",
       "<p>115 rows × 4 columns</p>\n",
       "</div>"
      ],
      "text/plain": [
       "                group        date  count  order\n",
       "0    tissue providers  2020-02-10      1      1\n",
       "1    tissue providers  2020-02-12      1      1\n",
       "2    tissue providers  2020-05-18      1      1\n",
       "3    tissue providers  2021-02-10      1      1\n",
       "4    tissue providers  2021-03-16      2      1\n",
       "..                ...         ...    ...    ...\n",
       "110              SOPs  2023-10-18      1     10\n",
       "111              SOPs  2023-12-11      1     10\n",
       "112              SOPs  2023-12-13      1     10\n",
       "113              SOPs  2024-06-12      6     10\n",
       "114              SOPs  2024-12-10      5     10\n",
       "\n",
       "[115 rows x 4 columns]"
      ]
     },
     "execution_count": 35,
     "metadata": {},
     "output_type": "execute_result"
    }
   ],
   "source": [
    "# import HRA growth\n",
    "growth = pd.read_csv(\n",
    "    'https://raw.githubusercontent.com/x-atlas-consortia/hra-dashboard-data/ccf0e3274d615523e89ba034dddeb9c64ffb3162/data/data/hra-growth.csv')\n",
    "growth"
   ]
  },
  {
   "cell_type": "code",
   "execution_count": 36,
   "metadata": {},
   "outputs": [
    {
     "data": {
      "image/png": "[encoded data removed]",
      "text/plain": [
       "<Figure size 1200x700 with 1 Axes>"
      ]
     },
     "metadata": {},
     "output_type": "display_data"
    }
   ],
   "source": [
    "# vega-lite spec: https://cdn.humanatlas.io/hra-dashboard-data/data/hra-growth.vl.json\n",
    "\n",
    "# Convert date to datetime\n",
    "growth['date'] = pd.to_datetime(growth['date'])\n",
    "\n",
    "# Calculate cumulative sum\n",
    "growth['cumulative_count'] = growth.groupby(\"group\")['count'].cumsum()\n",
    "\n",
    "# Create the line plot\n",
    "g = sns.lineplot(\n",
    "    data=growth,\n",
    "    x='date',\n",
    "    y='cumulative_count',\n",
    "    hue='group',\n",
    "    marker='o'\n",
    ")\n",
    "\n",
    "# Customize the plot\n",
    "plt.xlabel('Date')\n",
    "plt.ylabel('Cumulative Count')\n",
    "\n",
    "# Get axes\n",
    "ax=plt.gca()\n",
    "\n",
    "# adjust legend\n",
    "# Get handles and current labels\n",
    "handles, labels = ax.get_legend_handles_labels()\n",
    "\n",
    "# Capitalize each label\n",
    "new_labels = [label if label == 'SOPs' or label == 'OMAPs' or label == '2D FTU illustrations' else label.capitalize() for label in labels]\n",
    "\n",
    "# Apply the new labels\n",
    "ax.legend(handles=handles, \n",
    "          labels=new_labels, \n",
    "          title='Type',\n",
    "          loc='upper left')  # optional new title\n",
    "\n",
    "# increase figure size to accommodate facet grid\n",
    "g.figure.set_size_inches(12, 7)\n",
    "\n",
    "# Make sure all minor ticks are visible\n",
    "ax.tick_params(which='both', direction='out', length=6)\n",
    "\n",
    "# Set y-axis to logarithmic scale\n",
    "plt.yscale('log')\n",
    "\n",
    "# adjust labels\n",
    "plt.xlabel('Date', labelpad=8)\n",
    "plt.ylabel('Cumulative Count', labelpad=8)\n",
    "\n",
    "# Rotate x-axis labels for better readability\n",
    "plt.xticks(rotation=90)\n",
    "\n",
    "# Set major ticks only on June and December (HRA releases)\n",
    "ax.xaxis.set_major_locator(MonthLocator(bymonth=[6, 12]))\n",
    "ax.xaxis.set_major_formatter(DateFormatter('%Y-%m'))\n",
    "\n",
    "plt.grid(True, which='both', axis='x', linestyle='-',\n",
    "         linewidth=2)  # Apply grid to x-axis\n",
    "\n",
    "# Set white background\n",
    "g.figure.set_facecolor('white')\n",
    "ax.set_facecolor('white')\n",
    "\n",
    "# Set thin grey grid lines\n",
    "ax.grid(True, which='major', axis='both',\n",
    "        linestyle='-', linewidth=0.5, color='grey')\n",
    "ax.grid(True, which='minor', axis='both',\n",
    "        linestyle=':', linewidth=0.3, color='lightgrey')\n",
    "\n",
    "\n",
    "\n",
    "# Set the x-axis limits\n",
    "filtered_data = growth.dropna()[growth['date'] >= '2020-02']\n",
    "plt.xlim(filtered_data[\"date\"].min(), filtered_data[\"date\"].max())\n",
    "\n",
    "# Adjust layout to prevent label cutoff\n",
    "plt.tight_layout()\n",
    "\n",
    "plt.savefig(f\"output/b_hra_growth_over_time.pdf\",\n",
    "            dpi=600, format='pdf', bbox_inches='tight')\n",
    "\n",
    "plt.show()"
   ]
  },
  {
   "cell_type": "markdown",
   "metadata": {},
   "source": [
    "## (2) DOs per organ"
   ]
  },
  {
   "cell_type": "code",
   "execution_count": 37,
   "metadata": {},
   "outputs": [
    {
     "data": {
      "application/vnd.microsoft.datawrangler.viewer.v0+json": {
       "columns": [
        {
         "name": "index",
         "rawType": "int64",
         "type": "integer"
        },
        {
         "name": "organ",
         "rawType": "object",
         "type": "string"
        },
        {
         "name": "type",
         "rawType": "object",
         "type": "string"
        },
        {
         "name": "count",
         "rawType": "int64",
         "type": "integer"
        }
       ],
       "ref": "8d9eb562-96f4-48cf-949b-fabd973df1ed",
       "rows": [
        [
         "0",
         "anatomical systems",
         "ASCT+B Table",
         "1"
        ],
        [
         "1",
         "blood",
         "CTAnn Crosswalks",
         "3"
        ],
        [
         "2",
         "blood pelvis",
         "ASCT+B Table",
         "1"
        ],
        [
         "3",
         "blood vasculature",
         "ASCT+B Table",
         "1"
        ],
        [
         "4",
         "blood vasculature",
         "CTAnn Crosswalks",
         "1"
        ],
        [
         "5",
         "blood vasculature",
         "3D Reference Organ",
         "2"
        ],
        [
         "6",
         "body proper",
         "3D Reference Organ",
         "2"
        ],
        [
         "7",
         "bone marrow",
         "ASCT+B Table",
         "1"
        ],
        [
         "8",
         "bone marrow",
         "CTAnn Crosswalks",
         "3"
        ],
        [
         "9",
         "brain",
         "ASCT+B Table",
         "1"
        ],
        [
         "10",
         "brain",
         "3D Reference Organ",
         "2"
        ],
        [
         "11",
         "eye",
         "ASCT+B Table",
         "1"
        ],
        [
         "12",
         "eye",
         "CTAnn Crosswalks",
         "1"
        ],
        [
         "13",
         "eye",
         "3D Reference Organ",
         "4"
        ],
        [
         "14",
         "eye",
         "OMAP",
         "1"
        ],
        [
         "15",
         "fallopian tube",
         "ASCT+B Table",
         "1"
        ],
        [
         "16",
         "fallopian tube",
         "3D Reference Organ",
         "2"
        ],
        [
         "17",
         "heart",
         "ASCT+B Table",
         "1"
        ],
        [
         "18",
         "heart",
         "CTAnn Crosswalks",
         "3"
        ],
        [
         "19",
         "heart",
         "3D Reference Organ",
         "2"
        ],
        [
         "20",
         "hippocampal gyrus (formation)",
         "CTAnn Crosswalks",
         "1"
        ],
        [
         "21",
         "kidney",
         "ASCT+B Table",
         "1"
        ],
        [
         "22",
         "kidney",
         "CTAnn Crosswalks",
         "2"
        ],
        [
         "23",
         "kidney",
         "2D FTU Illustration",
         "8"
        ],
        [
         "24",
         "kidney",
         "3D Reference Organ",
         "4"
        ],
        [
         "25",
         "kidney",
         "OMAP",
         "4"
        ],
        [
         "26",
         "knee",
         "ASCT+B Table",
         "1"
        ],
        [
         "27",
         "knee",
         "3D Reference Organ",
         "4"
        ],
        [
         "28",
         "large intestine",
         "ASCT+B Table",
         "1"
        ],
        [
         "29",
         "large intestine",
         "CTAnn Crosswalks",
         "1"
        ],
        [
         "30",
         "large intestine",
         "2D FTU Illustration",
         "1"
        ],
        [
         "31",
         "large intestine",
         "3D Reference Organ",
         "2"
        ],
        [
         "32",
         "liver",
         "ASCT+B Table",
         "1"
        ],
        [
         "33",
         "liver",
         "CTAnn Crosswalks",
         "3"
        ],
        [
         "34",
         "liver",
         "2D FTU Illustration",
         "1"
        ],
        [
         "35",
         "liver",
         "3D Reference Organ",
         "2"
        ],
        [
         "36",
         "liver",
         "OMAP",
         "1"
        ],
        [
         "37",
         "lung",
         "ASCT+B Table",
         "1"
        ],
        [
         "38",
         "lung",
         "CTAnn Crosswalks",
         "4"
        ],
        [
         "39",
         "lung",
         "2D FTU Illustration",
         "2"
        ],
        [
         "40",
         "lung",
         "3D Reference Organ",
         "2"
        ],
        [
         "41",
         "lung",
         "OMAP",
         "2"
        ],
        [
         "42",
         "lymph node",
         "ASCT+B Table",
         "1"
        ],
        [
         "43",
         "lymph node",
         "CTAnn Crosswalks",
         "3"
        ],
        [
         "44",
         "lymph node",
         "3D Reference Organ",
         "2"
        ],
        [
         "45",
         "lymph node",
         "OMAP",
         "2"
        ],
        [
         "46",
         "lymph vasculature",
         "ASCT+B Table",
         "1"
        ],
        [
         "47",
         "main bronchus",
         "ASCT+B Table",
         "1"
        ],
        [
         "48",
         "main bronchus",
         "3D Reference Organ",
         "4"
        ],
        [
         "49",
         "mammary gland",
         "CTAnn Crosswalks",
         "1"
        ]
       ],
       "shape": {
        "columns": 3,
        "rows": 106
       }
      },
      "text/html": [
       "<div>\n",
       "<style scoped>\n",
       "    .dataframe tbody tr th:only-of-type {\n",
       "        vertical-align: middle;\n",
       "    }\n",
       "\n",
       "    .dataframe tbody tr th {\n",
       "        vertical-align: top;\n",
       "    }\n",
       "\n",
       "    .dataframe thead th {\n",
       "        text-align: right;\n",
       "    }\n",
       "</style>\n",
       "<table border=\"1\" class=\"dataframe\">\n",
       "  <thead>\n",
       "    <tr style=\"text-align: right;\">\n",
       "      <th></th>\n",
       "      <th>organ</th>\n",
       "      <th>type</th>\n",
       "      <th>count</th>\n",
       "    </tr>\n",
       "  </thead>\n",
       "  <tbody>\n",
       "    <tr>\n",
       "      <th>0</th>\n",
       "      <td>anatomical systems</td>\n",
       "      <td>ASCT+B Table</td>\n",
       "      <td>1</td>\n",
       "    </tr>\n",
       "    <tr>\n",
       "      <th>1</th>\n",
       "      <td>blood</td>\n",
       "      <td>CTAnn Crosswalks</td>\n",
       "      <td>3</td>\n",
       "    </tr>\n",
       "    <tr>\n",
       "      <th>2</th>\n",
       "      <td>blood pelvis</td>\n",
       "      <td>ASCT+B Table</td>\n",
       "      <td>1</td>\n",
       "    </tr>\n",
       "    <tr>\n",
       "      <th>3</th>\n",
       "      <td>blood vasculature</td>\n",
       "      <td>ASCT+B Table</td>\n",
       "      <td>1</td>\n",
       "    </tr>\n",
       "    <tr>\n",
       "      <th>4</th>\n",
       "      <td>blood vasculature</td>\n",
       "      <td>CTAnn Crosswalks</td>\n",
       "      <td>1</td>\n",
       "    </tr>\n",
       "    <tr>\n",
       "      <th>...</th>\n",
       "      <td>...</td>\n",
       "      <td>...</td>\n",
       "      <td>...</td>\n",
       "    </tr>\n",
       "    <tr>\n",
       "      <th>101</th>\n",
       "      <td>uterus</td>\n",
       "      <td>ASCT+B Table</td>\n",
       "      <td>1</td>\n",
       "    </tr>\n",
       "    <tr>\n",
       "      <th>102</th>\n",
       "      <td>uterus</td>\n",
       "      <td>CTAnn Crosswalks</td>\n",
       "      <td>1</td>\n",
       "    </tr>\n",
       "    <tr>\n",
       "      <th>103</th>\n",
       "      <td>uterus</td>\n",
       "      <td>3D Reference Organ</td>\n",
       "      <td>2</td>\n",
       "    </tr>\n",
       "    <tr>\n",
       "      <th>104</th>\n",
       "      <td>vascular system</td>\n",
       "      <td>CTAnn Crosswalks</td>\n",
       "      <td>1</td>\n",
       "    </tr>\n",
       "    <tr>\n",
       "      <th>105</th>\n",
       "      <td>vascular system</td>\n",
       "      <td>3D Reference Organ</td>\n",
       "      <td>2</td>\n",
       "    </tr>\n",
       "  </tbody>\n",
       "</table>\n",
       "<p>106 rows × 3 columns</p>\n",
       "</div>"
      ],
      "text/plain": [
       "                  organ                type  count\n",
       "0    anatomical systems        ASCT+B Table      1\n",
       "1                 blood    CTAnn Crosswalks      3\n",
       "2          blood pelvis        ASCT+B Table      1\n",
       "3     blood vasculature        ASCT+B Table      1\n",
       "4     blood vasculature    CTAnn Crosswalks      1\n",
       "..                  ...                 ...    ...\n",
       "101              uterus        ASCT+B Table      1\n",
       "102              uterus    CTAnn Crosswalks      1\n",
       "103              uterus  3D Reference Organ      2\n",
       "104     vascular system    CTAnn Crosswalks      1\n",
       "105     vascular system  3D Reference Organ      2\n",
       "\n",
       "[106 rows x 3 columns]"
      ]
     },
     "execution_count": 37,
     "metadata": {},
     "output_type": "execute_result"
    }
   ],
   "source": [
    "# import DOs per organ\n",
    "dos_per_organ = pd.read_csv(\n",
    "    'https://raw.githubusercontent.com/x-atlas-consortia/hra-dashboard-data/daa49797509e9485bbb379bb08f3feb5299fa86f/data/data/digital-objects-per-organ.csv')\n",
    "dos_per_organ"
   ]
  },
  {
   "cell_type": "code",
   "execution_count": 38,
   "metadata": {},
   "outputs": [
    {
     "data": {
      "application/vnd.microsoft.datawrangler.viewer.v0+json": {
       "columns": [
        {
         "name": "index",
         "rawType": "int64",
         "type": "integer"
        },
        {
         "name": "organ",
         "rawType": "object",
         "type": "string"
        },
        {
         "name": "type",
         "rawType": "object",
         "type": "string"
        },
        {
         "name": "count",
         "rawType": "int64",
         "type": "integer"
        }
       ],
       "ref": "1352b6f1-c0c6-4514-be73-2fd1b5ad3975",
       "rows": [
        [
         "0",
         "anatomical systems",
         "ASCT+B Table",
         "1"
        ],
        [
         "1",
         "blood",
         "CTann Crosswalk",
         "3"
        ],
        [
         "2",
         "blood pelvis",
         "ASCT+B Table",
         "1"
        ],
        [
         "3",
         "blood vasculature",
         "ASCT+B Table",
         "1"
        ],
        [
         "4",
         "blood vasculature",
         "CTann Crosswalk",
         "1"
        ],
        [
         "5",
         "blood vasculature",
         "3D Reference Organ",
         "2"
        ],
        [
         "6",
         "body proper",
         "3D Reference Organ",
         "2"
        ],
        [
         "7",
         "bone marrow",
         "ASCT+B Table",
         "1"
        ],
        [
         "8",
         "bone marrow",
         "CTann Crosswalk",
         "3"
        ],
        [
         "9",
         "brain",
         "ASCT+B Table",
         "1"
        ],
        [
         "10",
         "brain",
         "3D Reference Organ",
         "2"
        ],
        [
         "11",
         "eye",
         "ASCT+B Table",
         "1"
        ],
        [
         "12",
         "eye",
         "CTann Crosswalk",
         "1"
        ],
        [
         "13",
         "eye",
         "3D Reference Organ",
         "4"
        ],
        [
         "14",
         "eye",
         "OMAP",
         "1"
        ],
        [
         "15",
         "fallopian tube",
         "ASCT+B Table",
         "1"
        ],
        [
         "16",
         "fallopian tube",
         "3D Reference Organ",
         "2"
        ],
        [
         "17",
         "heart",
         "ASCT+B Table",
         "1"
        ],
        [
         "18",
         "heart",
         "CTann Crosswalk",
         "3"
        ],
        [
         "19",
         "heart",
         "3D Reference Organ",
         "2"
        ],
        [
         "20",
         "hippocampal gyrus (formation)",
         "CTann Crosswalk",
         "1"
        ],
        [
         "21",
         "kidney",
         "ASCT+B Table",
         "1"
        ],
        [
         "22",
         "kidney",
         "CTann Crosswalk",
         "2"
        ],
        [
         "23",
         "kidney",
         "2D FTU Illustration",
         "8"
        ],
        [
         "24",
         "kidney",
         "3D Reference Organ",
         "4"
        ],
        [
         "25",
         "kidney",
         "OMAP",
         "4"
        ],
        [
         "26",
         "knee",
         "ASCT+B Table",
         "1"
        ],
        [
         "27",
         "knee",
         "3D Reference Organ",
         "4"
        ],
        [
         "28",
         "large intestine",
         "ASCT+B Table",
         "1"
        ],
        [
         "29",
         "large intestine",
         "CTann Crosswalk",
         "1"
        ],
        [
         "30",
         "large intestine",
         "2D FTU Illustration",
         "1"
        ],
        [
         "31",
         "large intestine",
         "3D Reference Organ",
         "2"
        ],
        [
         "32",
         "liver",
         "ASCT+B Table",
         "1"
        ],
        [
         "33",
         "liver",
         "CTann Crosswalk",
         "3"
        ],
        [
         "34",
         "liver",
         "2D FTU Illustration",
         "1"
        ],
        [
         "35",
         "liver",
         "3D Reference Organ",
         "2"
        ],
        [
         "36",
         "liver",
         "OMAP",
         "1"
        ],
        [
         "37",
         "lung",
         "ASCT+B Table",
         "1"
        ],
        [
         "38",
         "lung",
         "CTann Crosswalk",
         "4"
        ],
        [
         "39",
         "lung",
         "2D FTU Illustration",
         "2"
        ],
        [
         "40",
         "lung",
         "3D Reference Organ",
         "2"
        ],
        [
         "41",
         "lung",
         "OMAP",
         "2"
        ],
        [
         "42",
         "lymph node",
         "ASCT+B Table",
         "1"
        ],
        [
         "43",
         "lymph node",
         "CTann Crosswalk",
         "3"
        ],
        [
         "44",
         "lymph node",
         "3D Reference Organ",
         "2"
        ],
        [
         "45",
         "lymph node",
         "OMAP",
         "2"
        ],
        [
         "46",
         "lymph vasculature",
         "ASCT+B Table",
         "1"
        ],
        [
         "47",
         "main bronchus",
         "ASCT+B Table",
         "1"
        ],
        [
         "48",
         "main bronchus",
         "3D Reference Organ",
         "4"
        ],
        [
         "49",
         "mammary gland",
         "CTann Crosswalk",
         "1"
        ]
       ],
       "shape": {
        "columns": 3,
        "rows": 106
       }
      },
      "text/html": [
       "<div>\n",
       "<style scoped>\n",
       "    .dataframe tbody tr th:only-of-type {\n",
       "        vertical-align: middle;\n",
       "    }\n",
       "\n",
       "    .dataframe tbody tr th {\n",
       "        vertical-align: top;\n",
       "    }\n",
       "\n",
       "    .dataframe thead th {\n",
       "        text-align: right;\n",
       "    }\n",
       "</style>\n",
       "<table border=\"1\" class=\"dataframe\">\n",
       "  <thead>\n",
       "    <tr style=\"text-align: right;\">\n",
       "      <th></th>\n",
       "      <th>organ</th>\n",
       "      <th>type</th>\n",
       "      <th>count</th>\n",
       "    </tr>\n",
       "  </thead>\n",
       "  <tbody>\n",
       "    <tr>\n",
       "      <th>0</th>\n",
       "      <td>anatomical systems</td>\n",
       "      <td>ASCT+B Table</td>\n",
       "      <td>1</td>\n",
       "    </tr>\n",
       "    <tr>\n",
       "      <th>1</th>\n",
       "      <td>blood</td>\n",
       "      <td>CTann Crosswalk</td>\n",
       "      <td>3</td>\n",
       "    </tr>\n",
       "    <tr>\n",
       "      <th>2</th>\n",
       "      <td>blood pelvis</td>\n",
       "      <td>ASCT+B Table</td>\n",
       "      <td>1</td>\n",
       "    </tr>\n",
       "    <tr>\n",
       "      <th>3</th>\n",
       "      <td>blood vasculature</td>\n",
       "      <td>ASCT+B Table</td>\n",
       "      <td>1</td>\n",
       "    </tr>\n",
       "    <tr>\n",
       "      <th>4</th>\n",
       "      <td>blood vasculature</td>\n",
       "      <td>CTann Crosswalk</td>\n",
       "      <td>1</td>\n",
       "    </tr>\n",
       "    <tr>\n",
       "      <th>...</th>\n",
       "      <td>...</td>\n",
       "      <td>...</td>\n",
       "      <td>...</td>\n",
       "    </tr>\n",
       "    <tr>\n",
       "      <th>101</th>\n",
       "      <td>uterus</td>\n",
       "      <td>ASCT+B Table</td>\n",
       "      <td>1</td>\n",
       "    </tr>\n",
       "    <tr>\n",
       "      <th>102</th>\n",
       "      <td>uterus</td>\n",
       "      <td>CTann Crosswalk</td>\n",
       "      <td>1</td>\n",
       "    </tr>\n",
       "    <tr>\n",
       "      <th>103</th>\n",
       "      <td>uterus</td>\n",
       "      <td>3D Reference Organ</td>\n",
       "      <td>2</td>\n",
       "    </tr>\n",
       "    <tr>\n",
       "      <th>104</th>\n",
       "      <td>vascular system</td>\n",
       "      <td>CTann Crosswalk</td>\n",
       "      <td>1</td>\n",
       "    </tr>\n",
       "    <tr>\n",
       "      <th>105</th>\n",
       "      <td>vascular system</td>\n",
       "      <td>3D Reference Organ</td>\n",
       "      <td>2</td>\n",
       "    </tr>\n",
       "  </tbody>\n",
       "</table>\n",
       "<p>106 rows × 3 columns</p>\n",
       "</div>"
      ],
      "text/plain": [
       "                  organ                type  count\n",
       "0    anatomical systems        ASCT+B Table      1\n",
       "1                 blood     CTann Crosswalk      3\n",
       "2          blood pelvis        ASCT+B Table      1\n",
       "3     blood vasculature        ASCT+B Table      1\n",
       "4     blood vasculature     CTann Crosswalk      1\n",
       "..                  ...                 ...    ...\n",
       "101              uterus        ASCT+B Table      1\n",
       "102              uterus     CTann Crosswalk      1\n",
       "103              uterus  3D Reference Organ      2\n",
       "104     vascular system     CTann Crosswalk      1\n",
       "105     vascular system  3D Reference Organ      2\n",
       "\n",
       "[106 rows x 3 columns]"
      ]
     },
     "execution_count": 38,
     "metadata": {},
     "output_type": "execute_result"
    }
   ],
   "source": [
    "# adjust strings\n",
    "dos_per_organ['type'] = dos_per_organ['type'].replace(\n",
    "  {\n",
    "      'CTAnn Crosswalks': 'CTann Crosswalk'\n",
    "  }\n",
    ")\n",
    "dos_per_organ"
   ]
  },
  {
   "cell_type": "code",
   "execution_count": 45,
   "metadata": {},
   "outputs": [
    {
     "data": {
      "image/png": "[encoded data removed]",
      "text/plain": [
       "<Figure size 1700x700 with 1 Axes>"
      ]
     },
     "metadata": {},
     "output_type": "display_data"
    }
   ],
   "source": [
    "# vega-lite spec: https://cdn.humanatlas.io/hra-dashboard-data/data/digital-objects-per-organ.vl.json\n",
    "\n",
    "dos_per_organ\n",
    "\n",
    "color_map = sns.choose_colorbrewer_palette(\"YlGnBu\", as_cmap=True)\n",
    "\n",
    "# Create the line plot\n",
    "g = sns.scatterplot(\n",
    "    data=dos_per_organ,\n",
    "   x=\"organ\",\n",
    "   y=\"type\",\n",
    "   size=\"count\",\n",
    "   sizes=(20, 200)\n",
    ")\n",
    "\n",
    "# Set white background for figure and axes\n",
    "g.figure.set_facecolor('white')\n",
    "g.set_facecolor('white')\n",
    "\n",
    "# Set thin grey grid lines\n",
    "g.grid(True, which='major', axis='both',\n",
    "       linestyle='-', linewidth=0.5, color='grey')\n",
    "g.grid(True, which='minor', axis='both',\n",
    "       linestyle=':', linewidth=0.3, color='lightgrey')\n",
    "\n",
    "\n",
    "# increase figure size to accommodate facet grid\n",
    "g.figure.set_size_inches(17, 7)\n",
    "\n",
    "# uncomment if needed\n",
    "# g.legend_.remove()\n",
    "\n",
    "# Customize the plot\n",
    "plt.xlabel('Organ', labelpad=8)\n",
    "plt.ylabel('DO Type', labelpad=8)\n",
    "\n",
    "# Rotate x-axis labels for better readability\n",
    "plt.xticks(rotation=90)\n",
    "\n",
    "# adjust legend\n",
    "legend = g.legend(title='DO Count',\n",
    "                  loc='lower left',\n",
    "                  labelspacing=0.12, fontsize=20, title_fontsize=19,\n",
    "                  # bbox_to_anchor=(0, -.5)\n",
    "                  handletextpad=0.3,\n",
    "                  )\n",
    "\n",
    "# Adjust layout to prevent label cutoff\n",
    "plt.tight_layout()\n",
    "\n",
    "plt.savefig(f\"output/a_dos_per_organ.pdf\",\n",
    "            dpi=600, format='pdf', bbox_inches='tight')\n",
    "\n",
    "plt.show()"
   ]
  },
  {
   "cell_type": "markdown",
   "metadata": {},
   "source": [
    "## (3) Ontology terms added over time"
   ]
  },
  {
   "cell_type": "code",
   "execution_count": 40,
   "metadata": {},
   "outputs": [
    {
     "data": {
      "application/vnd.microsoft.datawrangler.viewer.v0+json": {
       "columns": [
        {
         "name": "index",
         "rawType": "int64",
         "type": "integer"
        },
        {
         "name": "date",
         "rawType": "object",
         "type": "string"
        },
        {
         "name": "count",
         "rawType": "int64",
         "type": "integer"
        },
        {
         "name": "ontology",
         "rawType": "object",
         "type": "string"
        }
       ],
       "ref": "362d000e-1d43-4beb-9a77-c0a38b8b18e5",
       "rows": [
        [
         "0",
         "2023-01-01",
         "50",
         "CL"
        ],
        [
         "1",
         "2023-02-15",
         "14",
         "CL"
        ],
        [
         "2",
         "2023-03-21",
         "11",
         "CL"
        ],
        [
         "3",
         "2023-04-20",
         "11",
         "CL"
        ],
        [
         "4",
         "2023-05-22",
         "5",
         "CL"
        ],
        [
         "5",
         "2023-06-22",
         "7",
         "CL"
        ],
        [
         "6",
         "2023-07-20",
         "0",
         "CL"
        ],
        [
         "7",
         "2023-08-24",
         "6",
         "CL"
        ],
        [
         "8",
         "2023-09-21",
         "2",
         "CL"
        ],
        [
         "9",
         "2023-10-19",
         "5",
         "CL"
        ],
        [
         "10",
         "2023-12-05",
         "0",
         "CL"
        ],
        [
         "11",
         "2024-01-04",
         "1",
         "CL"
        ],
        [
         "12",
         "2024-02-13",
         "3",
         "CL"
        ],
        [
         "13",
         "2024-04-05",
         "1",
         "CL"
        ],
        [
         "14",
         "2024-05-15",
         "1",
         "CL"
        ],
        [
         "15",
         "2024-07-10",
         "2",
         "CL"
        ],
        [
         "16",
         "2024-08-16",
         "20",
         "CL"
        ],
        [
         "17",
         "2024-09-26",
         "2",
         "CL"
        ],
        [
         "18",
         "2025-01-08",
         "9",
         "CL"
        ],
        [
         "19",
         "2025-04-10",
         "2",
         "CL"
        ],
        [
         "20",
         "2025-05-28",
         "0",
         "CL"
        ],
        [
         "21",
         "2024-01-05",
         "468",
         "PCL"
        ],
        [
         "22",
         "2024-06-01",
         "0",
         "PCL"
        ],
        [
         "23",
         "2024-11-25",
         "0",
         "PCL"
        ],
        [
         "24",
         "2025-01-08",
         "0",
         "PCL"
        ],
        [
         "25",
         "2025-05-28",
         "0",
         "PCL"
        ],
        [
         "26",
         "2023-01-01",
         "5",
         "Uberon"
        ],
        [
         "27",
         "2023-02-14",
         "4",
         "Uberon"
        ],
        [
         "28",
         "2023-03-15",
         "5",
         "Uberon"
        ],
        [
         "29",
         "2023-04-19",
         "1",
         "Uberon"
        ],
        [
         "30",
         "2023-05-23",
         "7",
         "Uberon"
        ],
        [
         "31",
         "2023-06-28",
         "0",
         "Uberon"
        ],
        [
         "32",
         "2023-07-25",
         "1",
         "Uberon"
        ],
        [
         "33",
         "2023-09-05",
         "1",
         "Uberon"
        ],
        [
         "34",
         "2023-10-27",
         "4",
         "Uberon"
        ],
        [
         "35",
         "2023-12-08",
         "1",
         "Uberon"
        ],
        [
         "36",
         "2024-01-18",
         "19",
         "Uberon"
        ],
        [
         "37",
         "2024-02-20",
         "0",
         "Uberon"
        ],
        [
         "38",
         "2024-03-22",
         "7",
         "Uberon"
        ],
        [
         "39",
         "2024-05-13",
         "1",
         "Uberon"
        ],
        [
         "40",
         "2024-07-03",
         "55",
         "Uberon"
        ],
        [
         "41",
         "2024-08-07",
         "0",
         "Uberon"
        ],
        [
         "42",
         "2024-09-03",
         "14",
         "Uberon"
        ],
        [
         "43",
         "2024-11-25",
         "1",
         "Uberon"
        ],
        [
         "44",
         "2025-01-08",
         "0",
         "Uberon"
        ],
        [
         "45",
         "2025-05-28",
         "11",
         "Uberon"
        ]
       ],
       "shape": {
        "columns": 3,
        "rows": 46
       }
      },
      "text/html": [
       "<div>\n",
       "<style scoped>\n",
       "    .dataframe tbody tr th:only-of-type {\n",
       "        vertical-align: middle;\n",
       "    }\n",
       "\n",
       "    .dataframe tbody tr th {\n",
       "        vertical-align: top;\n",
       "    }\n",
       "\n",
       "    .dataframe thead th {\n",
       "        text-align: right;\n",
       "    }\n",
       "</style>\n",
       "<table border=\"1\" class=\"dataframe\">\n",
       "  <thead>\n",
       "    <tr style=\"text-align: right;\">\n",
       "      <th></th>\n",
       "      <th>date</th>\n",
       "      <th>count</th>\n",
       "      <th>ontology</th>\n",
       "    </tr>\n",
       "  </thead>\n",
       "  <tbody>\n",
       "    <tr>\n",
       "      <th>0</th>\n",
       "      <td>2023-01-01</td>\n",
       "      <td>50</td>\n",
       "      <td>CL</td>\n",
       "    </tr>\n",
       "    <tr>\n",
       "      <th>1</th>\n",
       "      <td>2023-02-15</td>\n",
       "      <td>14</td>\n",
       "      <td>CL</td>\n",
       "    </tr>\n",
       "    <tr>\n",
       "      <th>2</th>\n",
       "      <td>2023-03-21</td>\n",
       "      <td>11</td>\n",
       "      <td>CL</td>\n",
       "    </tr>\n",
       "    <tr>\n",
       "      <th>3</th>\n",
       "      <td>2023-04-20</td>\n",
       "      <td>11</td>\n",
       "      <td>CL</td>\n",
       "    </tr>\n",
       "    <tr>\n",
       "      <th>4</th>\n",
       "      <td>2023-05-22</td>\n",
       "      <td>5</td>\n",
       "      <td>CL</td>\n",
       "    </tr>\n",
       "    <tr>\n",
       "      <th>5</th>\n",
       "      <td>2023-06-22</td>\n",
       "      <td>7</td>\n",
       "      <td>CL</td>\n",
       "    </tr>\n",
       "    <tr>\n",
       "      <th>6</th>\n",
       "      <td>2023-07-20</td>\n",
       "      <td>0</td>\n",
       "      <td>CL</td>\n",
       "    </tr>\n",
       "    <tr>\n",
       "      <th>7</th>\n",
       "      <td>2023-08-24</td>\n",
       "      <td>6</td>\n",
       "      <td>CL</td>\n",
       "    </tr>\n",
       "    <tr>\n",
       "      <th>8</th>\n",
       "      <td>2023-09-21</td>\n",
       "      <td>2</td>\n",
       "      <td>CL</td>\n",
       "    </tr>\n",
       "    <tr>\n",
       "      <th>9</th>\n",
       "      <td>2023-10-19</td>\n",
       "      <td>5</td>\n",
       "      <td>CL</td>\n",
       "    </tr>\n",
       "    <tr>\n",
       "      <th>10</th>\n",
       "      <td>2023-12-05</td>\n",
       "      <td>0</td>\n",
       "      <td>CL</td>\n",
       "    </tr>\n",
       "    <tr>\n",
       "      <th>11</th>\n",
       "      <td>2024-01-04</td>\n",
       "      <td>1</td>\n",
       "      <td>CL</td>\n",
       "    </tr>\n",
       "    <tr>\n",
       "      <th>12</th>\n",
       "      <td>2024-02-13</td>\n",
       "      <td>3</td>\n",
       "      <td>CL</td>\n",
       "    </tr>\n",
       "    <tr>\n",
       "      <th>13</th>\n",
       "      <td>2024-04-05</td>\n",
       "      <td>1</td>\n",
       "      <td>CL</td>\n",
       "    </tr>\n",
       "    <tr>\n",
       "      <th>14</th>\n",
       "      <td>2024-05-15</td>\n",
       "      <td>1</td>\n",
       "      <td>CL</td>\n",
       "    </tr>\n",
       "    <tr>\n",
       "      <th>15</th>\n",
       "      <td>2024-07-10</td>\n",
       "      <td>2</td>\n",
       "      <td>CL</td>\n",
       "    </tr>\n",
       "    <tr>\n",
       "      <th>16</th>\n",
       "      <td>2024-08-16</td>\n",
       "      <td>20</td>\n",
       "      <td>CL</td>\n",
       "    </tr>\n",
       "    <tr>\n",
       "      <th>17</th>\n",
       "      <td>2024-09-26</td>\n",
       "      <td>2</td>\n",
       "      <td>CL</td>\n",
       "    </tr>\n",
       "    <tr>\n",
       "      <th>18</th>\n",
       "      <td>2025-01-08</td>\n",
       "      <td>9</td>\n",
       "      <td>CL</td>\n",
       "    </tr>\n",
       "    <tr>\n",
       "      <th>19</th>\n",
       "      <td>2025-04-10</td>\n",
       "      <td>2</td>\n",
       "      <td>CL</td>\n",
       "    </tr>\n",
       "    <tr>\n",
       "      <th>20</th>\n",
       "      <td>2025-05-28</td>\n",
       "      <td>0</td>\n",
       "      <td>CL</td>\n",
       "    </tr>\n",
       "    <tr>\n",
       "      <th>21</th>\n",
       "      <td>2024-01-05</td>\n",
       "      <td>468</td>\n",
       "      <td>PCL</td>\n",
       "    </tr>\n",
       "    <tr>\n",
       "      <th>22</th>\n",
       "      <td>2024-06-01</td>\n",
       "      <td>0</td>\n",
       "      <td>PCL</td>\n",
       "    </tr>\n",
       "    <tr>\n",
       "      <th>23</th>\n",
       "      <td>2024-11-25</td>\n",
       "      <td>0</td>\n",
       "      <td>PCL</td>\n",
       "    </tr>\n",
       "    <tr>\n",
       "      <th>24</th>\n",
       "      <td>2025-01-08</td>\n",
       "      <td>0</td>\n",
       "      <td>PCL</td>\n",
       "    </tr>\n",
       "    <tr>\n",
       "      <th>25</th>\n",
       "      <td>2025-05-28</td>\n",
       "      <td>0</td>\n",
       "      <td>PCL</td>\n",
       "    </tr>\n",
       "    <tr>\n",
       "      <th>26</th>\n",
       "      <td>2023-01-01</td>\n",
       "      <td>5</td>\n",
       "      <td>Uberon</td>\n",
       "    </tr>\n",
       "    <tr>\n",
       "      <th>27</th>\n",
       "      <td>2023-02-14</td>\n",
       "      <td>4</td>\n",
       "      <td>Uberon</td>\n",
       "    </tr>\n",
       "    <tr>\n",
       "      <th>28</th>\n",
       "      <td>2023-03-15</td>\n",
       "      <td>5</td>\n",
       "      <td>Uberon</td>\n",
       "    </tr>\n",
       "    <tr>\n",
       "      <th>29</th>\n",
       "      <td>2023-04-19</td>\n",
       "      <td>1</td>\n",
       "      <td>Uberon</td>\n",
       "    </tr>\n",
       "    <tr>\n",
       "      <th>30</th>\n",
       "      <td>2023-05-23</td>\n",
       "      <td>7</td>\n",
       "      <td>Uberon</td>\n",
       "    </tr>\n",
       "    <tr>\n",
       "      <th>31</th>\n",
       "      <td>2023-06-28</td>\n",
       "      <td>0</td>\n",
       "      <td>Uberon</td>\n",
       "    </tr>\n",
       "    <tr>\n",
       "      <th>32</th>\n",
       "      <td>2023-07-25</td>\n",
       "      <td>1</td>\n",
       "      <td>Uberon</td>\n",
       "    </tr>\n",
       "    <tr>\n",
       "      <th>33</th>\n",
       "      <td>2023-09-05</td>\n",
       "      <td>1</td>\n",
       "      <td>Uberon</td>\n",
       "    </tr>\n",
       "    <tr>\n",
       "      <th>34</th>\n",
       "      <td>2023-10-27</td>\n",
       "      <td>4</td>\n",
       "      <td>Uberon</td>\n",
       "    </tr>\n",
       "    <tr>\n",
       "      <th>35</th>\n",
       "      <td>2023-12-08</td>\n",
       "      <td>1</td>\n",
       "      <td>Uberon</td>\n",
       "    </tr>\n",
       "    <tr>\n",
       "      <th>36</th>\n",
       "      <td>2024-01-18</td>\n",
       "      <td>19</td>\n",
       "      <td>Uberon</td>\n",
       "    </tr>\n",
       "    <tr>\n",
       "      <th>37</th>\n",
       "      <td>2024-02-20</td>\n",
       "      <td>0</td>\n",
       "      <td>Uberon</td>\n",
       "    </tr>\n",
       "    <tr>\n",
       "      <th>38</th>\n",
       "      <td>2024-03-22</td>\n",
       "      <td>7</td>\n",
       "      <td>Uberon</td>\n",
       "    </tr>\n",
       "    <tr>\n",
       "      <th>39</th>\n",
       "      <td>2024-05-13</td>\n",
       "      <td>1</td>\n",
       "      <td>Uberon</td>\n",
       "    </tr>\n",
       "    <tr>\n",
       "      <th>40</th>\n",
       "      <td>2024-07-03</td>\n",
       "      <td>55</td>\n",
       "      <td>Uberon</td>\n",
       "    </tr>\n",
       "    <tr>\n",
       "      <th>41</th>\n",
       "      <td>2024-08-07</td>\n",
       "      <td>0</td>\n",
       "      <td>Uberon</td>\n",
       "    </tr>\n",
       "    <tr>\n",
       "      <th>42</th>\n",
       "      <td>2024-09-03</td>\n",
       "      <td>14</td>\n",
       "      <td>Uberon</td>\n",
       "    </tr>\n",
       "    <tr>\n",
       "      <th>43</th>\n",
       "      <td>2024-11-25</td>\n",
       "      <td>1</td>\n",
       "      <td>Uberon</td>\n",
       "    </tr>\n",
       "    <tr>\n",
       "      <th>44</th>\n",
       "      <td>2025-01-08</td>\n",
       "      <td>0</td>\n",
       "      <td>Uberon</td>\n",
       "    </tr>\n",
       "    <tr>\n",
       "      <th>45</th>\n",
       "      <td>2025-05-28</td>\n",
       "      <td>11</td>\n",
       "      <td>Uberon</td>\n",
       "    </tr>\n",
       "  </tbody>\n",
       "</table>\n",
       "</div>"
      ],
      "text/plain": [
       "          date  count ontology\n",
       "0   2023-01-01     50       CL\n",
       "1   2023-02-15     14       CL\n",
       "2   2023-03-21     11       CL\n",
       "3   2023-04-20     11       CL\n",
       "4   2023-05-22      5       CL\n",
       "5   2023-06-22      7       CL\n",
       "6   2023-07-20      0       CL\n",
       "7   2023-08-24      6       CL\n",
       "8   2023-09-21      2       CL\n",
       "9   2023-10-19      5       CL\n",
       "10  2023-12-05      0       CL\n",
       "11  2024-01-04      1       CL\n",
       "12  2024-02-13      3       CL\n",
       "13  2024-04-05      1       CL\n",
       "14  2024-05-15      1       CL\n",
       "15  2024-07-10      2       CL\n",
       "16  2024-08-16     20       CL\n",
       "17  2024-09-26      2       CL\n",
       "18  2025-01-08      9       CL\n",
       "19  2025-04-10      2       CL\n",
       "20  2025-05-28      0       CL\n",
       "21  2024-01-05    468      PCL\n",
       "22  2024-06-01      0      PCL\n",
       "23  2024-11-25      0      PCL\n",
       "24  2025-01-08      0      PCL\n",
       "25  2025-05-28      0      PCL\n",
       "26  2023-01-01      5   Uberon\n",
       "27  2023-02-14      4   Uberon\n",
       "28  2023-03-15      5   Uberon\n",
       "29  2023-04-19      1   Uberon\n",
       "30  2023-05-23      7   Uberon\n",
       "31  2023-06-28      0   Uberon\n",
       "32  2023-07-25      1   Uberon\n",
       "33  2023-09-05      1   Uberon\n",
       "34  2023-10-27      4   Uberon\n",
       "35  2023-12-08      1   Uberon\n",
       "36  2024-01-18     19   Uberon\n",
       "37  2024-02-20      0   Uberon\n",
       "38  2024-03-22      7   Uberon\n",
       "39  2024-05-13      1   Uberon\n",
       "40  2024-07-03     55   Uberon\n",
       "41  2024-08-07      0   Uberon\n",
       "42  2024-09-03     14   Uberon\n",
       "43  2024-11-25      1   Uberon\n",
       "44  2025-01-08      0   Uberon\n",
       "45  2025-05-28     11   Uberon"
      ]
     },
     "execution_count": 40,
     "metadata": {},
     "output_type": "execute_result"
    }
   ],
   "source": [
    "# import ontoloogies extended over time\n",
    "ontology_terms_added = pd.read_csv(\n",
    "  # 'https://raw.githubusercontent.com/x-atlas-consortia/hra-dashboard-data/084f1c9543459044635671fc2b25672495f88afe/data/data/ontology-terms-added.csv'\n",
    "  'https://raw.githubusercontent.com/x-atlas-consortia/hra-dashboard-data/refs/heads/main/data/data/ontology-terms-added.csv'\n",
    "  )\n",
    "ontology_terms_added"
   ]
  },
  {
   "cell_type": "code",
   "execution_count": 41,
   "metadata": {},
   "outputs": [],
   "source": [
    "ontology_terms_added = ontology_terms_added.rename(columns=\n",
    "  {\n",
    "    'ontology':'Ontology'\n",
    "  }\n",
    ")"
   ]
  },
  {
   "cell_type": "code",
   "execution_count": 42,
   "metadata": {},
   "outputs": [
    {
     "data": {
      "image/png": "[encoded data removed]",
      "text/plain": [
       "<Figure size 600x850 with 1 Axes>"
      ]
     },
     "metadata": {},
     "output_type": "display_data"
    }
   ],
   "source": [
    "# vega-lite spec: https://cdn.humanatlas.io/hra-dashboard-data/data/ontology-terms-added.vl.json\n",
    "\n",
    "# Convert date to datetime\n",
    "ontology_terms_added['date'] = pd.to_datetime(ontology_terms_added['date'])\n",
    "\n",
    "# Calculate cumulative sum\n",
    "ontology_terms_added['cumulative_count'] = ontology_terms_added.groupby(\"Ontology\")[\n",
    "    'count'].cumsum()\n",
    "\n",
    "# Create the line plot\n",
    "g = sns.lineplot(\n",
    "    data=ontology_terms_added,\n",
    "    x='date',\n",
    "    y='cumulative_count',\n",
    "    hue='Ontology',\n",
    "    marker='o'\n",
    ")\n",
    "\n",
    "# adjust labels\n",
    "plt.xlabel('Date', labelpad=8)\n",
    "plt.ylabel('Cumulative Count', labelpad=8)\n",
    "\n",
    "# Set monthly ticks\n",
    "ax = plt.gca()  # get current axis\n",
    "# set ticks to appear at start of each month\n",
    "ax.xaxis.set_major_locator(MonthLocator())\n",
    "ax.xaxis.set_major_formatter(DateFormatter('%Y-%m'))  # format as YYYY-MM\n",
    "\n",
    "# Get axes\n",
    "ax = plt.gca()\n",
    "\n",
    "# set legend font size\n",
    "ax.legend(title='Ontology', fontsize=20, title_fontsize=20, loc='center right')  # sets size of legend entries\n",
    "\n",
    "# Make sure all minor ticks are visible\n",
    "ax.tick_params(which='both', direction='out', length=6)\n",
    "\n",
    "# Rotate x-axis labels for better readability\n",
    "plt.xticks(rotation=90)\n",
    "\n",
    "# Set the x-axis limits\n",
    "filtered_data = ontology_terms_added.dropna()[ontology_terms_added['date'] >= \"2023-06\"]\n",
    "plt.xlim(filtered_data[\"date\"].min(), pd.Timestamp(\"2025-01-01\"))\n",
    "\n",
    "# Set white background\n",
    "g.figure.set_facecolor('white')\n",
    "ax.set_facecolor('white')\n",
    "\n",
    "# Set thin grey grid lines\n",
    "ax.grid(True, which='major', axis='both',\n",
    "        linestyle='-', linewidth=0.5, color='grey')\n",
    "# ax.grid(True, which='minor', axis='both',\n",
    "#         linestyle=':', linewidth=0.3, color='lightgrey')\n",
    "\n",
    "\n",
    "# adjust figure size \n",
    "g.figure.set_size_inches(6, 8.5)\n",
    "\n",
    "plt.savefig(f\"output/c_ontologies_extended.pdf\",\n",
    "            dpi=600, format='pdf', bbox_inches='tight')\n",
    "\n",
    "# Adjust layout to prevent label cutoff\n",
    "plt.tight_layout()\n",
    "\n",
    "plt.show()"
   ]
  }
 ],
 "metadata": {
  "kernelspec": {
   "display_name": ".venv",
   "language": "python",
   "name": "python3"
  },
  "language_info": {
   "codemirror_mode": {
    "name": "ipython",
    "version": 3
   },
   "file_extension": ".py",
   "mimetype": "text/x-python",
   "name": "python",
   "nbconvert_exporter": "python",
   "pygments_lexer": "ipython3",
   "version": "3.12.4"
  }
 },
 "nbformat": 4,
 "nbformat_minor": 2
}
