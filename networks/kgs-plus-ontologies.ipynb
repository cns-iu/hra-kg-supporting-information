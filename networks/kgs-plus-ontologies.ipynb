{
 "cells": [
  {
   "cell_type": "markdown",
   "metadata": {},
   "source": [
    "## A notebook to visualize KGs and the ontologies they use using Gephi"
   ]
  },
  {
   "cell_type": "code",
   "execution_count": 9,
   "metadata": {},
   "outputs": [
    {
     "name": "stdout",
     "output_type": "stream",
     "text": [
      "Requirement already satisfied: pandas in c:\\users\\abueckle\\documents\\github\\hra-kg-supporting-information\\.venv\\lib\\site-packages (2.2.3)\n",
      "Requirement already satisfied: numpy in c:\\users\\abueckle\\documents\\github\\hra-kg-supporting-information\\.venv\\lib\\site-packages (2.1.2)\n",
      "Requirement already satisfied: python-dateutil>=2.8.2 in c:\\users\\abueckle\\documents\\github\\hra-kg-supporting-information\\.venv\\lib\\site-packages (from pandas) (2.9.0.post0)\n",
      "Requirement already satisfied: pytz>=2020.1 in c:\\users\\abueckle\\documents\\github\\hra-kg-supporting-information\\.venv\\lib\\site-packages (from pandas) (2024.2)\n",
      "Requirement already satisfied: tzdata>=2022.7 in c:\\users\\abueckle\\documents\\github\\hra-kg-supporting-information\\.venv\\lib\\site-packages (from pandas) (2024.2)\n",
      "Requirement already satisfied: six>=1.5 in c:\\users\\abueckle\\documents\\github\\hra-kg-supporting-information\\.venv\\lib\\site-packages (from python-dateutil>=2.8.2->pandas) (1.16.0)\n",
      "Note: you may need to restart the kernel to use updated packages.\n"
     ]
    },
    {
     "name": "stderr",
     "output_type": "stream",
     "text": [
      "\n",
      "[notice] A new release of pip is available: 24.3.1 -> 25.0.1\n",
      "[notice] To update, run: python.exe -m pip install --upgrade pip\n"
     ]
    }
   ],
   "source": [
    "# install and import libraries\n",
    "%pip install pandas numpy\n",
    "\n",
    "import pandas as pd\n",
    "import numpy as np"
   ]
  },
  {
   "cell_type": "code",
   "execution_count": 10,
   "metadata": {},
   "outputs": [
    {
     "data": {
      "text/html": [
       "<div>\n",
       "<style scoped>\n",
       "    .dataframe tbody tr th:only-of-type {\n",
       "        vertical-align: middle;\n",
       "    }\n",
       "\n",
       "    .dataframe tbody tr th {\n",
       "        vertical-align: top;\n",
       "    }\n",
       "\n",
       "    .dataframe thead th {\n",
       "        text-align: right;\n",
       "    }\n",
       "</style>\n",
       "<table border=\"1\" class=\"dataframe\">\n",
       "  <thead>\n",
       "    <tr style=\"text-align: right;\">\n",
       "      <th></th>\n",
       "      <th>Source</th>\n",
       "      <th>Target</th>\n",
       "    </tr>\n",
       "  </thead>\n",
       "  <tbody>\n",
       "    <tr>\n",
       "      <th>0</th>\n",
       "      <td>HRA KG</td>\n",
       "      <td>CCF</td>\n",
       "    </tr>\n",
       "    <tr>\n",
       "      <th>1</th>\n",
       "      <td>HRA KG</td>\n",
       "      <td>CL</td>\n",
       "    </tr>\n",
       "    <tr>\n",
       "      <th>2</th>\n",
       "      <td>HRA KG</td>\n",
       "      <td>FMA</td>\n",
       "    </tr>\n",
       "    <tr>\n",
       "      <th>3</th>\n",
       "      <td>HRA KG</td>\n",
       "      <td>HGNC</td>\n",
       "    </tr>\n",
       "    <tr>\n",
       "      <th>4</th>\n",
       "      <td>HRA KG</td>\n",
       "      <td>HRAVS</td>\n",
       "    </tr>\n",
       "    <tr>\n",
       "      <th>...</th>\n",
       "      <td>...</td>\n",
       "      <td>...</td>\n",
       "    </tr>\n",
       "    <tr>\n",
       "      <th>415</th>\n",
       "      <td>Ubergraph</td>\n",
       "      <td>Zebrafish anatomy and development ontology (ZFA)</td>\n",
       "    </tr>\n",
       "    <tr>\n",
       "      <th>416</th>\n",
       "      <td>Ubergraph</td>\n",
       "      <td>Ascomycete phenotype ontology (APO)</td>\n",
       "    </tr>\n",
       "    <tr>\n",
       "      <th>417</th>\n",
       "      <td>Ubergraph</td>\n",
       "      <td>Mouse Developmental Stages (MmusDV)</td>\n",
       "    </tr>\n",
       "    <tr>\n",
       "      <th>418</th>\n",
       "      <td>Ubergraph</td>\n",
       "      <td>Vertebrate Breed Ontology (VBO)</td>\n",
       "    </tr>\n",
       "    <tr>\n",
       "      <th>419</th>\n",
       "      <td>Ubergraph</td>\n",
       "      <td>Units of Measurement Ontology (UO)</td>\n",
       "    </tr>\n",
       "  </tbody>\n",
       "</table>\n",
       "<p>420 rows × 2 columns</p>\n",
       "</div>"
      ],
      "text/plain": [
       "        Source                                            Target\n",
       "0       HRA KG                                               CCF\n",
       "1       HRA KG                                                CL\n",
       "2       HRA KG                                               FMA\n",
       "3       HRA KG                                              HGNC\n",
       "4       HRA KG                                             HRAVS\n",
       "..         ...                                               ...\n",
       "415  Ubergraph  Zebrafish anatomy and development ontology (ZFA)\n",
       "416  Ubergraph               Ascomycete phenotype ontology (APO)\n",
       "417  Ubergraph               Mouse Developmental Stages (MmusDV)\n",
       "418  Ubergraph                   Vertebrate Breed Ontology (VBO)\n",
       "419  Ubergraph                Units of Measurement Ontology (UO)\n",
       "\n",
       "[420 rows x 2 columns]"
      ]
     },
     "execution_count": 10,
     "metadata": {},
     "output_type": "execute_result"
    }
   ],
   "source": [
    "# load data\n",
    "url = \"https://docs.google.com/spreadsheets/d/1oiiRew9waUj5ze-yDdNByUNiAzlkQ8w-5QMRdQWleDo/export?format=csv\"\n",
    "df_original = pd.read_csv(url)\n",
    "df_original.columns = ['Source', 'Target']\n",
    "df_original"
   ]
  },
  {
   "cell_type": "markdown",
   "metadata": {},
   "source": [
    "## Create node list"
   ]
  },
  {
   "cell_type": "code",
   "execution_count": 11,
   "metadata": {},
   "outputs": [
    {
     "data": {
      "text/html": [
       "<div>\n",
       "<style scoped>\n",
       "    .dataframe tbody tr th:only-of-type {\n",
       "        vertical-align: middle;\n",
       "    }\n",
       "\n",
       "    .dataframe tbody tr th {\n",
       "        vertical-align: top;\n",
       "    }\n",
       "\n",
       "    .dataframe thead th {\n",
       "        text-align: right;\n",
       "    }\n",
       "</style>\n",
       "<table border=\"1\" class=\"dataframe\">\n",
       "  <thead>\n",
       "    <tr style=\"text-align: right;\">\n",
       "      <th></th>\n",
       "      <th>Label</th>\n",
       "      <th>Type</th>\n",
       "      <th>ID</th>\n",
       "    </tr>\n",
       "  </thead>\n",
       "  <tbody>\n",
       "    <tr>\n",
       "      <th>0</th>\n",
       "      <td>MONDO</td>\n",
       "      <td>Ontology</td>\n",
       "      <td>MONDO</td>\n",
       "    </tr>\n",
       "    <tr>\n",
       "      <th>1</th>\n",
       "      <td>GS</td>\n",
       "      <td>Ontology</td>\n",
       "      <td>GS</td>\n",
       "    </tr>\n",
       "    <tr>\n",
       "      <th>2</th>\n",
       "      <td>MCM</td>\n",
       "      <td>Ontology</td>\n",
       "      <td>MCM</td>\n",
       "    </tr>\n",
       "    <tr>\n",
       "      <th>3</th>\n",
       "      <td>PCL</td>\n",
       "      <td>Ontology</td>\n",
       "      <td>PCL</td>\n",
       "    </tr>\n",
       "    <tr>\n",
       "      <th>4</th>\n",
       "      <td>Mouse Developmental Stages (MmusDV)</td>\n",
       "      <td>Ontology</td>\n",
       "      <td>Mouse Developmental Stages (MmusDV)</td>\n",
       "    </tr>\n",
       "    <tr>\n",
       "      <th>...</th>\n",
       "      <td>...</td>\n",
       "      <td>...</td>\n",
       "      <td>...</td>\n",
       "    </tr>\n",
       "    <tr>\n",
       "      <th>256</th>\n",
       "      <td>ALT</td>\n",
       "      <td>Ontology</td>\n",
       "      <td>ALT</td>\n",
       "    </tr>\n",
       "    <tr>\n",
       "      <th>257</th>\n",
       "      <td>CCF</td>\n",
       "      <td>Ontology</td>\n",
       "      <td>CCF</td>\n",
       "    </tr>\n",
       "    <tr>\n",
       "      <th>258</th>\n",
       "      <td>CST</td>\n",
       "      <td>Ontology</td>\n",
       "      <td>CST</td>\n",
       "    </tr>\n",
       "    <tr>\n",
       "      <th>259</th>\n",
       "      <td>GENCODEHSCLO</td>\n",
       "      <td>Ontology</td>\n",
       "      <td>GENCODEHSCLO</td>\n",
       "    </tr>\n",
       "    <tr>\n",
       "      <th>260</th>\n",
       "      <td>Uberon</td>\n",
       "      <td>Ontology</td>\n",
       "      <td>Uberon</td>\n",
       "    </tr>\n",
       "  </tbody>\n",
       "</table>\n",
       "<p>261 rows × 3 columns</p>\n",
       "</div>"
      ],
      "text/plain": [
       "                                   Label      Type  \\\n",
       "0                                  MONDO  Ontology   \n",
       "1                                     GS  Ontology   \n",
       "2                                    MCM  Ontology   \n",
       "3                                    PCL  Ontology   \n",
       "4    Mouse Developmental Stages (MmusDV)  Ontology   \n",
       "..                                   ...       ...   \n",
       "256                                  ALT  Ontology   \n",
       "257                                  CCF  Ontology   \n",
       "258                                  CST  Ontology   \n",
       "259                         GENCODEHSCLO  Ontology   \n",
       "260                               Uberon  Ontology   \n",
       "\n",
       "                                      ID  \n",
       "0                                  MONDO  \n",
       "1                                     GS  \n",
       "2                                    MCM  \n",
       "3                                    PCL  \n",
       "4    Mouse Developmental Stages (MmusDV)  \n",
       "..                                   ...  \n",
       "256                                  ALT  \n",
       "257                                  CCF  \n",
       "258                                  CST  \n",
       "259                         GENCODEHSCLO  \n",
       "260                               Uberon  \n",
       "\n",
       "[261 rows x 3 columns]"
      ]
     },
     "execution_count": 11,
     "metadata": {},
     "output_type": "execute_result"
    }
   ],
   "source": [
    "# process Google Sheet into CSVs for nodes and edges \n",
    "nodes = set()\n",
    "\n",
    "# Get unique values for each column\n",
    "unique_values = {col: df_original[col].unique() for col in df_original.columns}\n",
    "\n",
    "# Print results\n",
    "for col, values in unique_values.items():\n",
    "  for v in [v for v in values]:\n",
    "   nodes.add(v)\n",
    "\n",
    "# convert to df\n",
    "df_nodes = pd.DataFrame(list(nodes), columns=[\"Label\"])\n",
    "df_nodes['Type'] = np.where(df_nodes['Label'].isin(\n",
    "    df_original['Source']), \"KG\", \"Ontology\")\n",
    "\n",
    "# create id and label cols\n",
    "df_nodes['ID'] = df_nodes['Label'].copy()\n",
    "\n",
    "# export to CSV\n",
    "df_nodes.to_csv('input/nodes.csv', index=False)\n",
    "df_nodes"
   ]
  },
  {
   "cell_type": "markdown",
   "metadata": {},
   "source": [
    "## Create edge list"
   ]
  },
  {
   "cell_type": "code",
   "execution_count": null,
   "metadata": {},
   "outputs": [
    {
     "ename": "",
     "evalue": "",
     "output_type": "error",
     "traceback": [
      "\u001b[1;31mThe Kernel crashed while executing code in the current cell or a previous cell. \n",
      "\u001b[1;31mPlease review the code in the cell(s) to identify a possible cause of the failure. \n",
      "\u001b[1;31mClick <a href='https://aka.ms/vscodeJupyterKernelCrash'>here</a> for more info. \n",
      "\u001b[1;31mView Jupyter <a href='command:jupyter.viewOutput'>log</a> for further details."
     ]
    }
   ],
   "source": [
    "df_original.to_csv('input/edges.csv', index=False)"
   ]
  },
  {
   "cell_type": "code",
   "execution_count": null,
   "metadata": {},
   "outputs": [],
   "source": []
  }
 ],
 "metadata": {
  "kernelspec": {
   "display_name": ".venv",
   "language": "python",
   "name": "python3"
  },
  "language_info": {
   "codemirror_mode": {
    "name": "ipython",
    "version": 3
   },
   "file_extension": ".py",
   "mimetype": "text/x-python",
   "name": "python",
   "nbconvert_exporter": "python",
   "pygments_lexer": "ipython3",
   "version": "3.12.4"
  }
 },
 "nbformat": 4,
 "nbformat_minor": 2
}
